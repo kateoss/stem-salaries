{
 "cells": [
  {
   "cell_type": "code",
   "execution_count": 50,
   "id": "e4844983",
   "metadata": {},
   "outputs": [],
   "source": [
    "import pandas as pd\n",
    "import numpy as np\n",
    "import seaborn as sns\n",
    "import matplotlib.pyplot as plt\n",
    "%matplotlib inline\n",
    "from sklearn.model_selection import train_test_split\n",
    "from sklearn.preprocessing import PowerTransformer\n",
    "from sklearn.preprocessing import MinMaxScaler\n",
    "import pickle\n",
    "from sklearn import linear_model\n",
    "from sklearn.metrics import mean_absolute_error, mean_squared_error, mean_squared_log_error, r2_score\n",
    "from sklearn.linear_model import LinearRegression\n",
    "from sklearn.neighbors import KNeighborsRegressor\n",
    "from sklearn.tree import DecisionTreeRegressor\n",
    "from sklearn.model_selection import cross_validate\n",
    "from sklearn.model_selection import GridSearchCV"
   ]
  },
  {
   "cell_type": "code",
   "execution_count": 2,
   "id": "15b3b133",
   "metadata": {},
   "outputs": [],
   "source": [
    "data = pd.read_csv(\"..\\Data\\clean_data_for_model.csv\")"
   ]
  },
  {
   "cell_type": "code",
   "execution_count": 3,
   "id": "ba24afd8",
   "metadata": {},
   "outputs": [
    {
     "data": {
      "text/html": [
       "<div>\n",
       "<style scoped>\n",
       "    .dataframe tbody tr th:only-of-type {\n",
       "        vertical-align: middle;\n",
       "    }\n",
       "\n",
       "    .dataframe tbody tr th {\n",
       "        vertical-align: top;\n",
       "    }\n",
       "\n",
       "    .dataframe thead th {\n",
       "        text-align: right;\n",
       "    }\n",
       "</style>\n",
       "<table border=\"1\" class=\"dataframe\">\n",
       "  <thead>\n",
       "    <tr style=\"text-align: right;\">\n",
       "      <th></th>\n",
       "      <th>company_Accenture</th>\n",
       "      <th>company_Adobe</th>\n",
       "      <th>company_Amazon</th>\n",
       "      <th>company_Apple</th>\n",
       "      <th>company_Atlassian</th>\n",
       "      <th>company_Bloomberg</th>\n",
       "      <th>company_ByteDance</th>\n",
       "      <th>company_Capital One</th>\n",
       "      <th>company_Cisco</th>\n",
       "      <th>company_Dell Technologies</th>\n",
       "      <th>...</th>\n",
       "      <th>region_South America</th>\n",
       "      <th>region_South-Eastern Asia</th>\n",
       "      <th>region_Southern Europe</th>\n",
       "      <th>region_UK&amp;IRE</th>\n",
       "      <th>region_USA</th>\n",
       "      <th>region_Western Europe</th>\n",
       "      <th>totalyearlycompensation</th>\n",
       "      <th>yearsofexperience</th>\n",
       "      <th>yearsatcompany</th>\n",
       "      <th>education</th>\n",
       "    </tr>\n",
       "  </thead>\n",
       "  <tbody>\n",
       "    <tr>\n",
       "      <th>0</th>\n",
       "      <td>0.0</td>\n",
       "      <td>0.0</td>\n",
       "      <td>0.0</td>\n",
       "      <td>0.0</td>\n",
       "      <td>0.0</td>\n",
       "      <td>0.0</td>\n",
       "      <td>0.0</td>\n",
       "      <td>0.0</td>\n",
       "      <td>0.0</td>\n",
       "      <td>0.0</td>\n",
       "      <td>...</td>\n",
       "      <td>0.0</td>\n",
       "      <td>0.0</td>\n",
       "      <td>0.0</td>\n",
       "      <td>0.0</td>\n",
       "      <td>1.0</td>\n",
       "      <td>0.0</td>\n",
       "      <td>150000</td>\n",
       "      <td>5.0</td>\n",
       "      <td>2.0</td>\n",
       "      <td>3.0</td>\n",
       "    </tr>\n",
       "    <tr>\n",
       "      <th>1</th>\n",
       "      <td>0.0</td>\n",
       "      <td>0.0</td>\n",
       "      <td>0.0</td>\n",
       "      <td>0.0</td>\n",
       "      <td>0.0</td>\n",
       "      <td>0.0</td>\n",
       "      <td>0.0</td>\n",
       "      <td>0.0</td>\n",
       "      <td>0.0</td>\n",
       "      <td>0.0</td>\n",
       "      <td>...</td>\n",
       "      <td>0.0</td>\n",
       "      <td>0.0</td>\n",
       "      <td>0.0</td>\n",
       "      <td>0.0</td>\n",
       "      <td>1.0</td>\n",
       "      <td>0.0</td>\n",
       "      <td>242000</td>\n",
       "      <td>20.0</td>\n",
       "      <td>0.0</td>\n",
       "      <td>4.0</td>\n",
       "    </tr>\n",
       "    <tr>\n",
       "      <th>2</th>\n",
       "      <td>0.0</td>\n",
       "      <td>0.0</td>\n",
       "      <td>0.0</td>\n",
       "      <td>0.0</td>\n",
       "      <td>0.0</td>\n",
       "      <td>0.0</td>\n",
       "      <td>0.0</td>\n",
       "      <td>0.0</td>\n",
       "      <td>0.0</td>\n",
       "      <td>0.0</td>\n",
       "      <td>...</td>\n",
       "      <td>0.0</td>\n",
       "      <td>0.0</td>\n",
       "      <td>0.0</td>\n",
       "      <td>0.0</td>\n",
       "      <td>1.0</td>\n",
       "      <td>0.0</td>\n",
       "      <td>121000</td>\n",
       "      <td>0.0</td>\n",
       "      <td>0.0</td>\n",
       "      <td>3.0</td>\n",
       "    </tr>\n",
       "    <tr>\n",
       "      <th>3</th>\n",
       "      <td>0.0</td>\n",
       "      <td>0.0</td>\n",
       "      <td>0.0</td>\n",
       "      <td>0.0</td>\n",
       "      <td>0.0</td>\n",
       "      <td>0.0</td>\n",
       "      <td>0.0</td>\n",
       "      <td>0.0</td>\n",
       "      <td>0.0</td>\n",
       "      <td>0.0</td>\n",
       "      <td>...</td>\n",
       "      <td>0.0</td>\n",
       "      <td>0.0</td>\n",
       "      <td>0.0</td>\n",
       "      <td>0.0</td>\n",
       "      <td>1.0</td>\n",
       "      <td>0.0</td>\n",
       "      <td>160000</td>\n",
       "      <td>4.0</td>\n",
       "      <td>2.0</td>\n",
       "      <td>4.0</td>\n",
       "    </tr>\n",
       "    <tr>\n",
       "      <th>4</th>\n",
       "      <td>0.0</td>\n",
       "      <td>0.0</td>\n",
       "      <td>0.0</td>\n",
       "      <td>0.0</td>\n",
       "      <td>0.0</td>\n",
       "      <td>0.0</td>\n",
       "      <td>0.0</td>\n",
       "      <td>0.0</td>\n",
       "      <td>0.0</td>\n",
       "      <td>0.0</td>\n",
       "      <td>...</td>\n",
       "      <td>0.0</td>\n",
       "      <td>0.0</td>\n",
       "      <td>0.0</td>\n",
       "      <td>0.0</td>\n",
       "      <td>1.0</td>\n",
       "      <td>0.0</td>\n",
       "      <td>150000</td>\n",
       "      <td>10.0</td>\n",
       "      <td>4.0</td>\n",
       "      <td>1.0</td>\n",
       "    </tr>\n",
       "  </tbody>\n",
       "</table>\n",
       "<p>5 rows × 92 columns</p>\n",
       "</div>"
      ],
      "text/plain": [
       "   company_Accenture  company_Adobe  company_Amazon  company_Apple   \n",
       "0                0.0            0.0             0.0            0.0  \\\n",
       "1                0.0            0.0             0.0            0.0   \n",
       "2                0.0            0.0             0.0            0.0   \n",
       "3                0.0            0.0             0.0            0.0   \n",
       "4                0.0            0.0             0.0            0.0   \n",
       "\n",
       "   company_Atlassian  company_Bloomberg  company_ByteDance   \n",
       "0                0.0                0.0                0.0  \\\n",
       "1                0.0                0.0                0.0   \n",
       "2                0.0                0.0                0.0   \n",
       "3                0.0                0.0                0.0   \n",
       "4                0.0                0.0                0.0   \n",
       "\n",
       "   company_Capital One  company_Cisco  company_Dell Technologies  ...   \n",
       "0                  0.0            0.0                        0.0  ...  \\\n",
       "1                  0.0            0.0                        0.0  ...   \n",
       "2                  0.0            0.0                        0.0  ...   \n",
       "3                  0.0            0.0                        0.0  ...   \n",
       "4                  0.0            0.0                        0.0  ...   \n",
       "\n",
       "   region_South America  region_South-Eastern Asia  region_Southern Europe   \n",
       "0                   0.0                        0.0                     0.0  \\\n",
       "1                   0.0                        0.0                     0.0   \n",
       "2                   0.0                        0.0                     0.0   \n",
       "3                   0.0                        0.0                     0.0   \n",
       "4                   0.0                        0.0                     0.0   \n",
       "\n",
       "   region_UK&IRE  region_USA  region_Western Europe  totalyearlycompensation   \n",
       "0            0.0         1.0                    0.0                   150000  \\\n",
       "1            0.0         1.0                    0.0                   242000   \n",
       "2            0.0         1.0                    0.0                   121000   \n",
       "3            0.0         1.0                    0.0                   160000   \n",
       "4            0.0         1.0                    0.0                   150000   \n",
       "\n",
       "   yearsofexperience  yearsatcompany  education  \n",
       "0                5.0             2.0        3.0  \n",
       "1               20.0             0.0        4.0  \n",
       "2                0.0             0.0        3.0  \n",
       "3                4.0             2.0        4.0  \n",
       "4               10.0             4.0        1.0  \n",
       "\n",
       "[5 rows x 92 columns]"
      ]
     },
     "execution_count": 3,
     "metadata": {},
     "output_type": "execute_result"
    }
   ],
   "source": [
    "data.head()"
   ]
  },
  {
   "cell_type": "code",
   "execution_count": 4,
   "id": "befebbf1",
   "metadata": {},
   "outputs": [],
   "source": [
    "#X, y split:"
   ]
  },
  {
   "cell_type": "code",
   "execution_count": 4,
   "id": "c3a0a2a6",
   "metadata": {},
   "outputs": [],
   "source": [
    "y = data[\"totalyearlycompensation\"]\n",
    "X = data.drop([\"totalyearlycompensation\"],axis =1)"
   ]
  },
  {
   "cell_type": "code",
   "execution_count": 5,
   "id": "a4bf47aa",
   "metadata": {},
   "outputs": [],
   "source": [
    "#Checking the logarithm of y:"
   ]
  },
  {
   "cell_type": "code",
   "execution_count": 6,
   "id": "d46db948",
   "metadata": {},
   "outputs": [],
   "source": [
    "y_log = np.log(y)"
   ]
  },
  {
   "cell_type": "code",
   "execution_count": 6,
   "id": "e4d575e7",
   "metadata": {},
   "outputs": [
    {
     "data": {
      "text/plain": [
       "(array([1.680e+02, 4.850e+02, 1.021e+03, 4.023e+03, 9.921e+03, 6.209e+03,\n",
       "        1.381e+03, 1.340e+02, 1.000e+01, 3.000e+00]),\n",
       " array([ 9.21034037,  9.83140038, 10.45246039, 11.0735204 , 11.6945804 ,\n",
       "        12.31564041, 12.93670042, 13.55776043, 14.17882043, 14.79988044,\n",
       "        15.42094045]),\n",
       " <BarContainer object of 10 artists>)"
      ]
     },
     "execution_count": 6,
     "metadata": {},
     "output_type": "execute_result"
    },
    {
     "data": {
      "image/png": "[encoded data removed]",
      "text/plain": [
       "<Figure size 640x480 with 2 Axes>"
      ]
     },
     "metadata": {},
     "output_type": "display_data"
    }
   ],
   "source": [
    "fig, axs = plt.subplots(nrows=1, ncols=2)\n",
    "axs[0].hist(y, edgecolor='black')\n",
    "axs[1].hist(y_log, edgecolor='black')"
   ]
  },
  {
   "cell_type": "code",
   "execution_count": null,
   "id": "9ab21a4d",
   "metadata": {},
   "outputs": [],
   "source": [
    "# y_log = np.log(y)\n",
    "# model.fit(X_trans_scaled, y_log)\n",
    "# y_pred_log = model.predict(X_trans_scaled)\n",
    "# y_pred = np.exp(y_pred_log)\n",
    "# compute error metrics"
   ]
  },
  {
   "cell_type": "code",
   "execution_count": 7,
   "id": "e46fe051",
   "metadata": {},
   "outputs": [],
   "source": [
    "# Train test split:"
   ]
  },
  {
   "cell_type": "code",
   "execution_count": 7,
   "id": "f79e89a4",
   "metadata": {},
   "outputs": [],
   "source": [
    "X_train, X_test, y_train, y_test = train_test_split(X, y, test_size=0.3, random_state=28)"
   ]
  },
  {
   "cell_type": "code",
   "execution_count": 8,
   "id": "e566265d",
   "metadata": {},
   "outputs": [
    {
     "name": "stdout",
     "output_type": "stream",
     "text": [
      "(16348, 91)\n",
      "(7007, 91)\n"
     ]
    }
   ],
   "source": [
    "print(X_train.shape)\n",
    "print(X_test.shape)"
   ]
  },
  {
   "cell_type": "code",
   "execution_count": 9,
   "id": "8a0c4293",
   "metadata": {},
   "outputs": [],
   "source": [
    "# Separating original numerical columns to apply transformation and scaling on them, and encoded columns until further merge:"
   ]
  },
  {
   "cell_type": "code",
   "execution_count": 10,
   "id": "1de6c2c7",
   "metadata": {},
   "outputs": [],
   "source": [
    "X_train_num = X_train[[\"yearsofexperience\", \"yearsatcompany\", \"education\"]]\n",
    "X_test_num = X_test[[\"yearsofexperience\", \"yearsatcompany\", \"education\"]]"
   ]
  },
  {
   "cell_type": "code",
   "execution_count": 11,
   "id": "22d0b207",
   "metadata": {},
   "outputs": [],
   "source": [
    "columns_to_drop = [\"yearsofexperience\", \"yearsatcompany\", \"education\"]\n",
    "X_train_enc = X_train.drop(columns=columns_to_drop)\n",
    "X_test_enc = X_test.drop(columns=columns_to_drop)"
   ]
  },
  {
   "cell_type": "code",
   "execution_count": 11,
   "id": "e2d3f11a",
   "metadata": {},
   "outputs": [],
   "source": [
    "# Transforming data with PowerTransformer in order to make distribution more normal.\n",
    "# As a result we will see that all means are almost 0, and all std.deviations are around 1"
   ]
  },
  {
   "cell_type": "code",
   "execution_count": 12,
   "id": "b2ab16d3",
   "metadata": {},
   "outputs": [],
   "source": [
    "pt = PowerTransformer()\n",
    "pt.fit(X_train_num) # only to the numericals, not the encoded\n",
    "\n",
    "filename = \"../Transformers/PowerTransformer_stem.pickle\"\n",
    "\n",
    "with open(filename, \"wb\") as file:\n",
    "        pickle.dump(pt,file)\n",
    "        \n",
    "X_train_transformed_np = pt.transform(X_train_num)\n",
    "X_train_transformed_df =pd.DataFrame(pt.transform(X_train_num), columns=X_train_num.columns)\n",
    "\n",
    "X_test_transformed_np = pt.transform(X_test_num)\n",
    "X_test_transformed_df =pd.DataFrame(pt.transform(X_test_num), columns=X_test_num.columns)"
   ]
  },
  {
   "cell_type": "code",
   "execution_count": 13,
   "id": "98b3a536",
   "metadata": {},
   "outputs": [
    {
     "data": {
      "text/html": [
       "<div>\n",
       "<style scoped>\n",
       "    .dataframe tbody tr th:only-of-type {\n",
       "        vertical-align: middle;\n",
       "    }\n",
       "\n",
       "    .dataframe tbody tr th {\n",
       "        vertical-align: top;\n",
       "    }\n",
       "\n",
       "    .dataframe thead th {\n",
       "        text-align: right;\n",
       "    }\n",
       "</style>\n",
       "<table border=\"1\" class=\"dataframe\">\n",
       "  <thead>\n",
       "    <tr style=\"text-align: right;\">\n",
       "      <th></th>\n",
       "      <th>count</th>\n",
       "      <th>mean</th>\n",
       "      <th>std</th>\n",
       "      <th>min</th>\n",
       "      <th>25%</th>\n",
       "      <th>50%</th>\n",
       "      <th>75%</th>\n",
       "      <th>max</th>\n",
       "    </tr>\n",
       "  </thead>\n",
       "  <tbody>\n",
       "    <tr>\n",
       "      <th>yearsofexperience</th>\n",
       "      <td>16348.0</td>\n",
       "      <td>1.260444e-17</td>\n",
       "      <td>1.000031</td>\n",
       "      <td>-2.018261</td>\n",
       "      <td>-0.663178</td>\n",
       "      <td>0.042522</td>\n",
       "      <td>0.694595</td>\n",
       "      <td>3.108107</td>\n",
       "    </tr>\n",
       "    <tr>\n",
       "      <th>yearsatcompany</th>\n",
       "      <td>16348.0</td>\n",
       "      <td>-2.260107e-17</td>\n",
       "      <td>1.000031</td>\n",
       "      <td>-1.335874</td>\n",
       "      <td>-1.335874</td>\n",
       "      <td>0.187082</td>\n",
       "      <td>0.816124</td>\n",
       "      <td>2.964501</td>\n",
       "    </tr>\n",
       "    <tr>\n",
       "      <th>education</th>\n",
       "      <td>16348.0</td>\n",
       "      <td>1.080070e-16</td>\n",
       "      <td>1.000031</td>\n",
       "      <td>-3.227088</td>\n",
       "      <td>-0.925364</td>\n",
       "      <td>0.717539</td>\n",
       "      <td>0.717539</td>\n",
       "      <td>2.675278</td>\n",
       "    </tr>\n",
       "  </tbody>\n",
       "</table>\n",
       "</div>"
      ],
      "text/plain": [
       "                     count          mean       std       min       25%   \n",
       "yearsofexperience  16348.0  1.260444e-17  1.000031 -2.018261 -0.663178  \\\n",
       "yearsatcompany     16348.0 -2.260107e-17  1.000031 -1.335874 -1.335874   \n",
       "education          16348.0  1.080070e-16  1.000031 -3.227088 -0.925364   \n",
       "\n",
       "                        50%       75%       max  \n",
       "yearsofexperience  0.042522  0.694595  3.108107  \n",
       "yearsatcompany     0.187082  0.816124  2.964501  \n",
       "education          0.717539  0.717539  2.675278  "
      ]
     },
     "execution_count": 13,
     "metadata": {},
     "output_type": "execute_result"
    }
   ],
   "source": [
    "X_train_transformed_df.describe().T"
   ]
  },
  {
   "cell_type": "code",
   "execution_count": 14,
   "id": "2f60a83c",
   "metadata": {},
   "outputs": [
    {
     "data": {
      "text/html": [
       "<div>\n",
       "<style scoped>\n",
       "    .dataframe tbody tr th:only-of-type {\n",
       "        vertical-align: middle;\n",
       "    }\n",
       "\n",
       "    .dataframe tbody tr th {\n",
       "        vertical-align: top;\n",
       "    }\n",
       "\n",
       "    .dataframe thead th {\n",
       "        text-align: right;\n",
       "    }\n",
       "</style>\n",
       "<table border=\"1\" class=\"dataframe\">\n",
       "  <thead>\n",
       "    <tr style=\"text-align: right;\">\n",
       "      <th></th>\n",
       "      <th>count</th>\n",
       "      <th>mean</th>\n",
       "      <th>std</th>\n",
       "      <th>min</th>\n",
       "      <th>25%</th>\n",
       "      <th>50%</th>\n",
       "      <th>75%</th>\n",
       "      <th>max</th>\n",
       "    </tr>\n",
       "  </thead>\n",
       "  <tbody>\n",
       "    <tr>\n",
       "      <th>yearsofexperience</th>\n",
       "      <td>7007.0</td>\n",
       "      <td>0.002668</td>\n",
       "      <td>1.003211</td>\n",
       "      <td>-2.018261</td>\n",
       "      <td>-0.663178</td>\n",
       "      <td>0.042522</td>\n",
       "      <td>0.694595</td>\n",
       "      <td>4.358662</td>\n",
       "    </tr>\n",
       "    <tr>\n",
       "      <th>yearsatcompany</th>\n",
       "      <td>7007.0</td>\n",
       "      <td>-0.000027</td>\n",
       "      <td>0.989415</td>\n",
       "      <td>-1.335874</td>\n",
       "      <td>-1.335874</td>\n",
       "      <td>0.187082</td>\n",
       "      <td>0.816124</td>\n",
       "      <td>3.413233</td>\n",
       "    </tr>\n",
       "    <tr>\n",
       "      <th>education</th>\n",
       "      <td>7007.0</td>\n",
       "      <td>-0.021020</td>\n",
       "      <td>0.998390</td>\n",
       "      <td>-3.227088</td>\n",
       "      <td>-0.925364</td>\n",
       "      <td>0.717539</td>\n",
       "      <td>0.717539</td>\n",
       "      <td>2.675278</td>\n",
       "    </tr>\n",
       "  </tbody>\n",
       "</table>\n",
       "</div>"
      ],
      "text/plain": [
       "                    count      mean       std       min       25%       50%   \n",
       "yearsofexperience  7007.0  0.002668  1.003211 -2.018261 -0.663178  0.042522  \\\n",
       "yearsatcompany     7007.0 -0.000027  0.989415 -1.335874 -1.335874  0.187082   \n",
       "education          7007.0 -0.021020  0.998390 -3.227088 -0.925364  0.717539   \n",
       "\n",
       "                        75%       max  \n",
       "yearsofexperience  0.694595  4.358662  \n",
       "yearsatcompany     0.816124  3.413233  \n",
       "education          0.717539  2.675278  "
      ]
     },
     "execution_count": 14,
     "metadata": {},
     "output_type": "execute_result"
    }
   ],
   "source": [
    "X_test_transformed_df.describe().T"
   ]
  },
  {
   "cell_type": "code",
   "execution_count": 15,
   "id": "65d04226",
   "metadata": {},
   "outputs": [
    {
     "data": {
      "text/html": [
       "<div>\n",
       "<style scoped>\n",
       "    .dataframe tbody tr th:only-of-type {\n",
       "        vertical-align: middle;\n",
       "    }\n",
       "\n",
       "    .dataframe tbody tr th {\n",
       "        vertical-align: top;\n",
       "    }\n",
       "\n",
       "    .dataframe thead th {\n",
       "        text-align: right;\n",
       "    }\n",
       "</style>\n",
       "<table border=\"1\" class=\"dataframe\">\n",
       "  <thead>\n",
       "    <tr style=\"text-align: right;\">\n",
       "      <th></th>\n",
       "      <th>yearsofexperience</th>\n",
       "      <th>yearsatcompany</th>\n",
       "      <th>education</th>\n",
       "    </tr>\n",
       "  </thead>\n",
       "  <tbody>\n",
       "    <tr>\n",
       "      <th>0</th>\n",
       "      <td>-0.663178</td>\n",
       "      <td>-0.346743</td>\n",
       "      <td>0.717539</td>\n",
       "    </tr>\n",
       "    <tr>\n",
       "      <th>1</th>\n",
       "      <td>0.829401</td>\n",
       "      <td>-0.346743</td>\n",
       "      <td>0.717539</td>\n",
       "    </tr>\n",
       "    <tr>\n",
       "      <th>2</th>\n",
       "      <td>0.395370</td>\n",
       "      <td>1.484157</td>\n",
       "      <td>0.717539</td>\n",
       "    </tr>\n",
       "    <tr>\n",
       "      <th>3</th>\n",
       "      <td>-0.986981</td>\n",
       "      <td>0.187082</td>\n",
       "      <td>-0.925364</td>\n",
       "    </tr>\n",
       "    <tr>\n",
       "      <th>4</th>\n",
       "      <td>1.298042</td>\n",
       "      <td>1.029508</td>\n",
       "      <td>-0.925364</td>\n",
       "    </tr>\n",
       "  </tbody>\n",
       "</table>\n",
       "</div>"
      ],
      "text/plain": [
       "   yearsofexperience  yearsatcompany  education\n",
       "0          -0.663178       -0.346743   0.717539\n",
       "1           0.829401       -0.346743   0.717539\n",
       "2           0.395370        1.484157   0.717539\n",
       "3          -0.986981        0.187082  -0.925364\n",
       "4           1.298042        1.029508  -0.925364"
      ]
     },
     "execution_count": 15,
     "metadata": {},
     "output_type": "execute_result"
    }
   ],
   "source": [
    "X_train_transformed_df.head()"
   ]
  },
  {
   "cell_type": "code",
   "execution_count": 16,
   "id": "0e9d5478",
   "metadata": {},
   "outputs": [],
   "source": [
    "# Scaling data with MinMaxScaler in order to make the range of values in all variable the same.\n",
    "# As a result we will see that all the min values are 0, and all teh max values are 1."
   ]
  },
  {
   "cell_type": "code",
   "execution_count": 17,
   "id": "f1c89623",
   "metadata": {},
   "outputs": [],
   "source": [
    "scaler = MinMaxScaler().fit(X_train_transformed_df)\n",
    "\n",
    "filename = \"../Scalers/MinMaxScaler_stem.pickle\"\n",
    "\n",
    "with open(filename, \"wb\") as file:\n",
    "        pickle.dump(scaler,file)\n",
    "\n",
    "X_train_trans_scaled = scaler.transform(X_train_transformed_df) # only on the numericals transformed\n",
    "X_train_trans_scaled_df = pd.DataFrame(X_train_trans_scaled, columns=X_train_transformed_df.columns)\n",
    "\n",
    "X_test_trans_scaled = scaler.transform(X_test_transformed_df)\n",
    "X_test_trans_scaled_df = pd.DataFrame(X_test_trans_scaled, columns=X_test_transformed_df.columns)"
   ]
  },
  {
   "cell_type": "code",
   "execution_count": 18,
   "id": "81a1bdf5",
   "metadata": {},
   "outputs": [
    {
     "data": {
      "text/html": [
       "<div>\n",
       "<style scoped>\n",
       "    .dataframe tbody tr th:only-of-type {\n",
       "        vertical-align: middle;\n",
       "    }\n",
       "\n",
       "    .dataframe tbody tr th {\n",
       "        vertical-align: top;\n",
       "    }\n",
       "\n",
       "    .dataframe thead th {\n",
       "        text-align: right;\n",
       "    }\n",
       "</style>\n",
       "<table border=\"1\" class=\"dataframe\">\n",
       "  <thead>\n",
       "    <tr style=\"text-align: right;\">\n",
       "      <th></th>\n",
       "      <th>count</th>\n",
       "      <th>mean</th>\n",
       "      <th>std</th>\n",
       "      <th>min</th>\n",
       "      <th>25%</th>\n",
       "      <th>50%</th>\n",
       "      <th>75%</th>\n",
       "      <th>max</th>\n",
       "    </tr>\n",
       "  </thead>\n",
       "  <tbody>\n",
       "    <tr>\n",
       "      <th>yearsofexperience</th>\n",
       "      <td>16348.0</td>\n",
       "      <td>0.393702</td>\n",
       "      <td>0.195076</td>\n",
       "      <td>0.0</td>\n",
       "      <td>0.264336</td>\n",
       "      <td>0.401997</td>\n",
       "      <td>0.529196</td>\n",
       "      <td>1.0</td>\n",
       "    </tr>\n",
       "    <tr>\n",
       "      <th>yearsatcompany</th>\n",
       "      <td>16348.0</td>\n",
       "      <td>0.310641</td>\n",
       "      <td>0.232545</td>\n",
       "      <td>0.0</td>\n",
       "      <td>0.000000</td>\n",
       "      <td>0.354145</td>\n",
       "      <td>0.500421</td>\n",
       "      <td>1.0</td>\n",
       "    </tr>\n",
       "    <tr>\n",
       "      <th>education</th>\n",
       "      <td>16348.0</td>\n",
       "      <td>0.546745</td>\n",
       "      <td>0.169429</td>\n",
       "      <td>0.0</td>\n",
       "      <td>0.389966</td>\n",
       "      <td>0.668313</td>\n",
       "      <td>0.668313</td>\n",
       "      <td>1.0</td>\n",
       "    </tr>\n",
       "  </tbody>\n",
       "</table>\n",
       "</div>"
      ],
      "text/plain": [
       "                     count      mean       std  min       25%       50%   \n",
       "yearsofexperience  16348.0  0.393702  0.195076  0.0  0.264336  0.401997  \\\n",
       "yearsatcompany     16348.0  0.310641  0.232545  0.0  0.000000  0.354145   \n",
       "education          16348.0  0.546745  0.169429  0.0  0.389966  0.668313   \n",
       "\n",
       "                        75%  max  \n",
       "yearsofexperience  0.529196  1.0  \n",
       "yearsatcompany     0.500421  1.0  \n",
       "education          0.668313  1.0  "
      ]
     },
     "execution_count": 18,
     "metadata": {},
     "output_type": "execute_result"
    }
   ],
   "source": [
    "X_train_trans_scaled_df.describe().T"
   ]
  },
  {
   "cell_type": "code",
   "execution_count": 19,
   "id": "1bf172af",
   "metadata": {},
   "outputs": [
    {
     "data": {
      "text/html": [
       "<div>\n",
       "<style scoped>\n",
       "    .dataframe tbody tr th:only-of-type {\n",
       "        vertical-align: middle;\n",
       "    }\n",
       "\n",
       "    .dataframe tbody tr th {\n",
       "        vertical-align: top;\n",
       "    }\n",
       "\n",
       "    .dataframe thead th {\n",
       "        text-align: right;\n",
       "    }\n",
       "</style>\n",
       "<table border=\"1\" class=\"dataframe\">\n",
       "  <thead>\n",
       "    <tr style=\"text-align: right;\">\n",
       "      <th></th>\n",
       "      <th>count</th>\n",
       "      <th>mean</th>\n",
       "      <th>std</th>\n",
       "      <th>min</th>\n",
       "      <th>25%</th>\n",
       "      <th>50%</th>\n",
       "      <th>75%</th>\n",
       "      <th>max</th>\n",
       "    </tr>\n",
       "  </thead>\n",
       "  <tbody>\n",
       "    <tr>\n",
       "      <th>yearsofexperience</th>\n",
       "      <td>7007.0</td>\n",
       "      <td>0.394222</td>\n",
       "      <td>0.195696</td>\n",
       "      <td>0.0</td>\n",
       "      <td>0.264336</td>\n",
       "      <td>0.401997</td>\n",
       "      <td>0.529196</td>\n",
       "      <td>1.243946</td>\n",
       "    </tr>\n",
       "    <tr>\n",
       "      <th>yearsatcompany</th>\n",
       "      <td>7007.0</td>\n",
       "      <td>0.310635</td>\n",
       "      <td>0.230077</td>\n",
       "      <td>0.0</td>\n",
       "      <td>0.000000</td>\n",
       "      <td>0.354145</td>\n",
       "      <td>0.500421</td>\n",
       "      <td>1.104347</td>\n",
       "    </tr>\n",
       "    <tr>\n",
       "      <th>education</th>\n",
       "      <td>7007.0</td>\n",
       "      <td>0.543184</td>\n",
       "      <td>0.169151</td>\n",
       "      <td>0.0</td>\n",
       "      <td>0.389966</td>\n",
       "      <td>0.668313</td>\n",
       "      <td>0.668313</td>\n",
       "      <td>1.000000</td>\n",
       "    </tr>\n",
       "  </tbody>\n",
       "</table>\n",
       "</div>"
      ],
      "text/plain": [
       "                    count      mean       std  min       25%       50%   \n",
       "yearsofexperience  7007.0  0.394222  0.195696  0.0  0.264336  0.401997  \\\n",
       "yearsatcompany     7007.0  0.310635  0.230077  0.0  0.000000  0.354145   \n",
       "education          7007.0  0.543184  0.169151  0.0  0.389966  0.668313   \n",
       "\n",
       "                        75%       max  \n",
       "yearsofexperience  0.529196  1.243946  \n",
       "yearsatcompany     0.500421  1.104347  \n",
       "education          0.668313  1.000000  "
      ]
     },
     "execution_count": 19,
     "metadata": {},
     "output_type": "execute_result"
    }
   ],
   "source": [
    "X_test_trans_scaled_df.describe().T"
   ]
  },
  {
   "cell_type": "code",
   "execution_count": 19,
   "id": "d91c7acf",
   "metadata": {},
   "outputs": [],
   "source": [
    "# Now I am concatenating back transformed_scaled data to encoded columns.\n",
    "# Before doing that I am resetting the indexes."
   ]
  },
  {
   "cell_type": "code",
   "execution_count": 20,
   "id": "59778137",
   "metadata": {},
   "outputs": [],
   "source": [
    "X_train_enc = X_train_enc.reset_index(drop=True)\n",
    "X_train_trans_scaled_df = X_train_trans_scaled_df.reset_index(drop=True)\n",
    "\n",
    "X_test_enc = X_test_enc.reset_index(drop=True)\n",
    "X_test_trans_scaled_df = X_test_trans_scaled_df.reset_index(drop=True)"
   ]
  },
  {
   "cell_type": "code",
   "execution_count": 21,
   "id": "33cb8286",
   "metadata": {},
   "outputs": [],
   "source": [
    "X_train_new = pd.concat([X_train_enc, X_train_trans_scaled_df], axis=1)\n",
    "X_test_new = pd.concat([X_test_enc, X_test_trans_scaled_df], axis=1)"
   ]
  },
  {
   "cell_type": "code",
   "execution_count": 22,
   "id": "d7e8c945",
   "metadata": {},
   "outputs": [],
   "source": [
    "#LinearRegression"
   ]
  },
  {
   "cell_type": "code",
   "execution_count": 22,
   "id": "601b3d0e",
   "metadata": {},
   "outputs": [],
   "source": [
    "lm = linear_model.LinearRegression()\n",
    "lm.fit(X_train_new, y_train)\n",
    "\n",
    "filename = \"../Models/LinearRegression_stem.pickle\"\n",
    "\n",
    "with open(filename, \"wb\") as file:\n",
    "        pickle.dump(lm,file)"
   ]
  },
  {
   "cell_type": "code",
   "execution_count": 23,
   "id": "1c50f121",
   "metadata": {},
   "outputs": [],
   "source": [
    "y_pred = lm.predict(X_test_new)"
   ]
  },
  {
   "cell_type": "code",
   "execution_count": 24,
   "id": "09dc7f70",
   "metadata": {},
   "outputs": [
    {
     "name": "stdout",
     "output_type": "stream",
     "text": [
      "R2 of a train set: 0.5500338262288866\n",
      "R2 of a test set: 0.5757534286082644\n"
     ]
    }
   ],
   "source": [
    "y_pred_train = lm.predict(X_train_new)\n",
    "print(\"R2 of a train set:\", r2_score(y_train, y_pred_train))\n",
    "y_pred_test = lm.predict(X_test_new)\n",
    "print(\"R2 of a test set:\", r2_score(y_test, y_pred_test))"
   ]
  },
  {
   "cell_type": "code",
   "execution_count": null,
   "id": "49723697",
   "metadata": {},
   "outputs": [],
   "source": [
    "#KNN Regression"
   ]
  },
  {
   "cell_type": "code",
   "execution_count": null,
   "id": "2f190291",
   "metadata": {},
   "outputs": [],
   "source": [
    "#Before running KNN model, I need to calculate the best possible K. I will test a range of K from 2 to 11 (10 options)"
   ]
  },
  {
   "cell_type": "code",
   "execution_count": 25,
   "id": "853e2a51",
   "metadata": {},
   "outputs": [
    {
     "data": {
      "text/plain": [
       "[2, 3, 4, 5, 6, 7, 8, 9, 10, 11]"
      ]
     },
     "execution_count": 25,
     "metadata": {},
     "output_type": "execute_result"
    }
   ],
   "source": [
    "list(range(2,12))"
   ]
  },
  {
   "cell_type": "code",
   "execution_count": 92,
   "id": "c43aa084",
   "metadata": {
    "scrolled": true
   },
   "outputs": [
    {
     "name": "stdout",
     "output_type": "stream",
     "text": [
      "Training the k-NN model with 2 neighbours with weights uniform and p set to 1...\n",
      "\n",
      "Training the k-NN model with 2 neighbours with weights uniform and p set to 2...\n",
      "\n",
      "Training the k-NN model with 2 neighbours with weights uniform and p set to 3...\n",
      "\n",
      "Training the k-NN model with 2 neighbours with weights distance and p set to 1...\n",
      "\n",
      "Training the k-NN model with 2 neighbours with weights distance and p set to 2...\n",
      "\n",
      "Training the k-NN model with 2 neighbours with weights distance and p set to 3...\n",
      "\n",
      "Training the k-NN model with 3 neighbours with weights uniform and p set to 1...\n",
      "\n",
      "Training the k-NN model with 3 neighbours with weights uniform and p set to 2...\n",
      "\n",
      "Training the k-NN model with 3 neighbours with weights uniform and p set to 3...\n",
      "\n",
      "Training the k-NN model with 3 neighbours with weights distance and p set to 1...\n",
      "\n",
      "Training the k-NN model with 3 neighbours with weights distance and p set to 2...\n",
      "\n",
      "Training the k-NN model with 3 neighbours with weights distance and p set to 3...\n",
      "\n",
      "Training the k-NN model with 4 neighbours with weights uniform and p set to 1...\n",
      "\n",
      "Training the k-NN model with 4 neighbours with weights uniform and p set to 2...\n",
      "\n",
      "Training the k-NN model with 4 neighbours with weights uniform and p set to 3...\n",
      "\n",
      "Training the k-NN model with 4 neighbours with weights distance and p set to 1...\n",
      "\n",
      "Training the k-NN model with 4 neighbours with weights distance and p set to 2...\n",
      "\n",
      "Training the k-NN model with 4 neighbours with weights distance and p set to 3...\n",
      "\n",
      "Training the k-NN model with 5 neighbours with weights uniform and p set to 1...\n",
      "\n",
      "Training the k-NN model with 5 neighbours with weights uniform and p set to 2...\n",
      "\n",
      "Training the k-NN model with 5 neighbours with weights uniform and p set to 3...\n",
      "\n",
      "Training the k-NN model with 5 neighbours with weights distance and p set to 1...\n",
      "\n",
      "Training the k-NN model with 5 neighbours with weights distance and p set to 2...\n",
      "\n",
      "Training the k-NN model with 5 neighbours with weights distance and p set to 3...\n",
      "\n",
      "Training the k-NN model with 6 neighbours with weights uniform and p set to 1...\n",
      "\n",
      "Training the k-NN model with 6 neighbours with weights uniform and p set to 2...\n",
      "\n",
      "Training the k-NN model with 6 neighbours with weights uniform and p set to 3...\n",
      "\n",
      "Training the k-NN model with 6 neighbours with weights distance and p set to 1...\n",
      "\n",
      "Training the k-NN model with 6 neighbours with weights distance and p set to 2...\n",
      "\n",
      "Training the k-NN model with 6 neighbours with weights distance and p set to 3...\n",
      "\n",
      "Training the k-NN model with 7 neighbours with weights uniform and p set to 1...\n",
      "\n",
      "Training the k-NN model with 7 neighbours with weights uniform and p set to 2...\n",
      "\n",
      "Training the k-NN model with 7 neighbours with weights uniform and p set to 3...\n",
      "\n",
      "Training the k-NN model with 7 neighbours with weights distance and p set to 1...\n",
      "\n",
      "Training the k-NN model with 7 neighbours with weights distance and p set to 2...\n",
      "\n",
      "Training the k-NN model with 7 neighbours with weights distance and p set to 3...\n",
      "\n",
      "Training the k-NN model with 8 neighbours with weights uniform and p set to 1...\n",
      "\n",
      "Training the k-NN model with 8 neighbours with weights uniform and p set to 2...\n",
      "\n",
      "Training the k-NN model with 8 neighbours with weights uniform and p set to 3...\n",
      "\n",
      "Training the k-NN model with 8 neighbours with weights distance and p set to 1...\n",
      "\n",
      "Training the k-NN model with 8 neighbours with weights distance and p set to 2...\n",
      "\n",
      "Training the k-NN model with 8 neighbours with weights distance and p set to 3...\n",
      "\n",
      "Training the k-NN model with 9 neighbours with weights uniform and p set to 1...\n",
      "\n",
      "Training the k-NN model with 9 neighbours with weights uniform and p set to 2...\n",
      "\n",
      "Training the k-NN model with 9 neighbours with weights uniform and p set to 3...\n",
      "\n",
      "Training the k-NN model with 9 neighbours with weights distance and p set to 1...\n",
      "\n",
      "Training the k-NN model with 9 neighbours with weights distance and p set to 2...\n",
      "\n",
      "Training the k-NN model with 9 neighbours with weights distance and p set to 3...\n",
      "\n",
      "Training the k-NN model with 10 neighbours with weights uniform and p set to 1...\n",
      "\n",
      "Training the k-NN model with 10 neighbours with weights uniform and p set to 2...\n",
      "\n",
      "Training the k-NN model with 10 neighbours with weights uniform and p set to 3...\n",
      "\n",
      "Training the k-NN model with 10 neighbours with weights distance and p set to 1...\n",
      "\n",
      "Training the k-NN model with 10 neighbours with weights distance and p set to 2...\n",
      "\n",
      "Training the k-NN model with 10 neighbours with weights distance and p set to 3...\n",
      "\n",
      "Training the k-NN model with 11 neighbours with weights uniform and p set to 1...\n",
      "\n",
      "Training the k-NN model with 11 neighbours with weights uniform and p set to 2...\n",
      "\n",
      "Training the k-NN model with 11 neighbours with weights uniform and p set to 3...\n",
      "\n",
      "Training the k-NN model with 11 neighbours with weights distance and p set to 1...\n",
      "\n",
      "Training the k-NN model with 11 neighbours with weights distance and p set to 2...\n",
      "\n",
      "Training the k-NN model with 11 neighbours with weights distance and p set to 3...\n",
      "\n"
     ]
    }
   ],
   "source": [
    "knn_models = {} # keys = k_distance_p, value = model\n",
    "weights = [\"uniform\",\"distance\"]\n",
    "p_values = [1,2,3]\n",
    "scores = {}\n",
    "for k in range(2,12):\n",
    "    for weight in weights:\n",
    "        for value in p_values:\n",
    "            model = KNeighborsRegressor(n_neighbors=k,weights=weight,p=value)\n",
    "            print(\"Training the k-NN model with {} neighbours with weights {} and p set to {}...\".format(k,weight,value))\n",
    "            model.fit(X_train_new, y_train)\n",
    "            knn_models[str(k)+\"_\"+weight+\"_\"+str(value)] = model\n",
    "            scores[str(k)+\"_\"+weight+\"_\"+str(value)] = model.score(X_test_new, y_test)\n",
    "            print()"
   ]
  },
  {
   "cell_type": "code",
   "execution_count": 98,
   "id": "3fef53a8",
   "metadata": {
    "scrolled": true
   },
   "outputs": [
    {
     "data": {
      "text/plain": [
       "{'2_uniform_1': 0.4115711470938592,\n",
       " '2_uniform_2': 0.41639533662950245,\n",
       " '2_uniform_3': 0.4234425215241516,\n",
       " '2_distance_1': 0.3786585278035145,\n",
       " '2_distance_2': 0.38822251836672605,\n",
       " '2_distance_3': 0.39733848618090695,\n",
       " '3_uniform_1': 0.4956718296091982,\n",
       " '3_uniform_2': 0.5040537503641362,\n",
       " '3_uniform_3': 0.5046958977376348,\n",
       " '3_distance_1': 0.4516398390622097,\n",
       " '3_distance_2': 0.4675750212902172,\n",
       " '3_distance_3': 0.47226217813290317,\n",
       " '4_uniform_1': 0.5326091342493624,\n",
       " '4_uniform_2': 0.5358328423385332,\n",
       " '4_uniform_3': 0.5370639985051494,\n",
       " '4_distance_1': 0.492544241175389,\n",
       " '4_distance_2': 0.5022949931175219,\n",
       " '4_distance_3': 0.5069132220453896,\n",
       " '5_uniform_1': 0.5584079971381469,\n",
       " '5_uniform_2': 0.5584312947986925,\n",
       " '5_uniform_3': 0.5582458878500093,\n",
       " '5_distance_1': 0.5223295481207204,\n",
       " '5_distance_2': 0.5288998100557354,\n",
       " '5_distance_3': 0.5310828332732751,\n",
       " '6_uniform_1': 0.5686294609610386,\n",
       " '6_uniform_2': 0.5656523662183384,\n",
       " '6_uniform_3': 0.5650732369284607,\n",
       " '6_distance_1': 0.5383501879503156,\n",
       " '6_distance_2': 0.5410213142972882,\n",
       " '6_distance_3': 0.5417876348530307,\n",
       " '7_uniform_1': 0.5776804678488259,\n",
       " '7_uniform_2': 0.5726519180457078,\n",
       " '7_uniform_3': 0.572082410962008,\n",
       " '7_distance_1': 0.54764046646151,\n",
       " '7_distance_2': 0.5493095074747611,\n",
       " '7_distance_3': 0.5507430131454785,\n",
       " '8_uniform_1': 0.5766325350471915,\n",
       " '8_uniform_2': 0.5729891336262772,\n",
       " '8_uniform_3': 0.57302624613753,\n",
       " '8_distance_1': 0.5514768950032631,\n",
       " '8_distance_2': 0.5549882078037812,\n",
       " '8_distance_3': 0.5556177089358096,\n",
       " '9_uniform_1': 0.5785994061744406,\n",
       " '9_uniform_2': 0.5743458452731782,\n",
       " '9_uniform_3': 0.5734936267555153,\n",
       " '9_distance_1': 0.5556466841244234,\n",
       " '9_distance_2': 0.5588292350808531,\n",
       " '9_distance_3': 0.5585458202983378,\n",
       " '10_uniform_1': 0.575364032331025,\n",
       " '10_uniform_2': 0.572432924218641,\n",
       " '10_uniform_3': 0.5708300567796585,\n",
       " '10_distance_1': 0.5563458700238605,\n",
       " '10_distance_2': 0.558496811234336,\n",
       " '10_distance_3': 0.5584605061058971,\n",
       " '11_uniform_1': 0.5742254031082363,\n",
       " '11_uniform_2': 0.572534003599326,\n",
       " '11_uniform_3': 0.570631609935011,\n",
       " '11_distance_1': 0.5582754909307598,\n",
       " '11_distance_2': 0.5603097468273864,\n",
       " '11_distance_3': 0.5593125768076836}"
      ]
     },
     "execution_count": 98,
     "metadata": {},
     "output_type": "execute_result"
    }
   ],
   "source": [
    "knn_scores = {}\n",
    "for key in knn_models.keys():\n",
    "    knn_scores[key] = knn_models[key].score(X_test_new, y_test)\n",
    "\n",
    "knn_scores"
   ]
  },
  {
   "cell_type": "code",
   "execution_count": 102,
   "id": "a6944f52",
   "metadata": {
    "scrolled": true
   },
   "outputs": [
    {
     "data": {
      "text/plain": [
       "{'9_uniform_1': 0.5785994061744406,\n",
       " '7_uniform_1': 0.5776804678488259,\n",
       " '8_uniform_1': 0.5766325350471915,\n",
       " '10_uniform_1': 0.575364032331025,\n",
       " '9_uniform_2': 0.5743458452731782,\n",
       " '11_uniform_1': 0.5742254031082363,\n",
       " '9_uniform_3': 0.5734936267555153,\n",
       " '8_uniform_3': 0.57302624613753,\n",
       " '8_uniform_2': 0.5729891336262772,\n",
       " '7_uniform_2': 0.5726519180457078,\n",
       " '11_uniform_2': 0.572534003599326,\n",
       " '10_uniform_2': 0.572432924218641,\n",
       " '7_uniform_3': 0.572082410962008,\n",
       " '10_uniform_3': 0.5708300567796585,\n",
       " '11_uniform_3': 0.570631609935011,\n",
       " '6_uniform_1': 0.5686294609610386,\n",
       " '6_uniform_2': 0.5656523662183384,\n",
       " '6_uniform_3': 0.5650732369284607,\n",
       " '11_distance_2': 0.5603097468273864,\n",
       " '11_distance_3': 0.5593125768076836,\n",
       " '9_distance_2': 0.5588292350808531,\n",
       " '9_distance_3': 0.5585458202983378,\n",
       " '10_distance_2': 0.558496811234336,\n",
       " '10_distance_3': 0.5584605061058971,\n",
       " '5_uniform_2': 0.5584312947986925,\n",
       " '5_uniform_1': 0.5584079971381469,\n",
       " '11_distance_1': 0.5582754909307598,\n",
       " '5_uniform_3': 0.5582458878500093,\n",
       " '10_distance_1': 0.5563458700238605,\n",
       " '9_distance_1': 0.5556466841244234,\n",
       " '8_distance_3': 0.5556177089358096,\n",
       " '8_distance_2': 0.5549882078037812,\n",
       " '8_distance_1': 0.5514768950032631,\n",
       " '7_distance_3': 0.5507430131454785,\n",
       " '7_distance_2': 0.5493095074747611,\n",
       " '7_distance_1': 0.54764046646151,\n",
       " '6_distance_3': 0.5417876348530307,\n",
       " '6_distance_2': 0.5410213142972882,\n",
       " '6_distance_1': 0.5383501879503156,\n",
       " '4_uniform_3': 0.5370639985051494,\n",
       " '4_uniform_2': 0.5358328423385332,\n",
       " '4_uniform_1': 0.5326091342493624,\n",
       " '5_distance_3': 0.5310828332732751,\n",
       " '5_distance_2': 0.5288998100557354,\n",
       " '5_distance_1': 0.5223295481207204,\n",
       " '4_distance_3': 0.5069132220453896,\n",
       " '3_uniform_3': 0.5046958977376348,\n",
       " '3_uniform_2': 0.5040537503641362,\n",
       " '4_distance_2': 0.5022949931175219,\n",
       " '3_uniform_1': 0.4956718296091982,\n",
       " '4_distance_1': 0.492544241175389,\n",
       " '3_distance_3': 0.47226217813290317,\n",
       " '3_distance_2': 0.4675750212902172,\n",
       " '3_distance_1': 0.4516398390622097,\n",
       " '2_uniform_3': 0.4234425215241516,\n",
       " '2_uniform_2': 0.41639533662950245,\n",
       " '2_uniform_1': 0.4115711470938592,\n",
       " '2_distance_3': 0.39733848618090695,\n",
       " '2_distance_2': 0.38822251836672605,\n",
       " '2_distance_1': 0.3786585278035145}"
      ]
     },
     "execution_count": 102,
     "metadata": {},
     "output_type": "execute_result"
    }
   ],
   "source": [
    "knn_scores_sorted = dict(sorted(knn_scores.items(), key=lambda item: item[1], reverse=True) )\n",
    "knn_scores_sorted"
   ]
  },
  {
   "cell_type": "code",
   "execution_count": null,
   "id": "aa5ac1d7",
   "metadata": {},
   "outputs": [],
   "source": [
    "# The best model is the one with 9 neighbours, uniform weigh and Manhattan distance - r2 is 0.58"
   ]
  },
  {
   "cell_type": "code",
   "execution_count": 26,
   "id": "ad977e76",
   "metadata": {},
   "outputs": [],
   "source": [
    "knn = KNeighborsRegressor(n_neighbors=9, weights='uniform', p=1)\n",
    "knn.fit(X_train_new, y_train)\n",
    "\n",
    "filename = \"../Models/KNNRegressor_stem.pickle\"\n",
    "\n",
    "with open(filename, \"wb\") as file:\n",
    "        pickle.dump(knn,file)"
   ]
  },
  {
   "cell_type": "code",
   "execution_count": 31,
   "id": "8a2c9cc3",
   "metadata": {},
   "outputs": [
    {
     "name": "stdout",
     "output_type": "stream",
     "text": [
      "Train data R2 was: 0.61\n",
      "Test data R2 was: 0.58\n"
     ]
    }
   ],
   "source": [
    "print(\"Train data R2 was: {:.2f}\".format(knn.score(X_train_new, y_train)))\n",
    "print(\"Test data R2 was: {:.2f}\".format(knn.score(X_test_new, y_test)))"
   ]
  },
  {
   "cell_type": "code",
   "execution_count": null,
   "id": "22df96f0",
   "metadata": {},
   "outputs": [],
   "source": [
    "# Decision Tree:"
   ]
  },
  {
   "cell_type": "code",
   "execution_count": 113,
   "id": "c49d6ed9",
   "metadata": {},
   "outputs": [],
   "source": [
    "#Applying GridSearch in order to look for the best parameters to fit the model:\n",
    "# 4*2*3*3*5 =8*9*5=360\n",
    "max_depth_choices = [3,4,5,6]\n",
    "criterion_choices = ['squared_error','absolute_error']\n",
    "min_samples_split_choices = [2,6,10]\n",
    "min_samples_leaf_choices = [2,6,10]   "
   ]
  },
  {
   "cell_type": "code",
   "execution_count": 114,
   "id": "37e73ee2",
   "metadata": {},
   "outputs": [],
   "source": [
    "grid = {'max_depth': max_depth_choices,\n",
    "        'criterion': criterion_choices,\n",
    "        'min_samples_split': min_samples_split_choices,\n",
    "        'min_samples_leaf': min_samples_leaf_choices}"
   ]
  },
  {
   "cell_type": "code",
   "execution_count": 115,
   "id": "2d1fead5",
   "metadata": {},
   "outputs": [],
   "source": [
    "model = DecisionTreeRegressor()\n",
    "grid_search = GridSearchCV(estimator = model, param_grid = grid, cv = 5)"
   ]
  },
  {
   "cell_type": "code",
   "execution_count": 116,
   "id": "8ef50df3",
   "metadata": {},
   "outputs": [
    {
     "data": {
      "text/html": [
       "<style>#sk-container-id-6 {color: black;background-color: white;}#sk-container-id-6 pre{padding: 0;}#sk-container-id-6 div.sk-toggleable {background-color: white;}#sk-container-id-6 label.sk-toggleable__label {cursor: pointer;display: block;width: 100%;margin-bottom: 0;padding: 0.3em;box-sizing: border-box;text-align: center;}#sk-container-id-6 label.sk-toggleable__label-arrow:before {content: \"▸\";float: left;margin-right: 0.25em;color: #696969;}#sk-container-id-6 label.sk-toggleable__label-arrow:hover:before {color: black;}#sk-container-id-6 div.sk-estimator:hover label.sk-toggleable__label-arrow:before {color: black;}#sk-container-id-6 div.sk-toggleable__content {max-height: 0;max-width: 0;overflow: hidden;text-align: left;background-color: #f0f8ff;}#sk-container-id-6 div.sk-toggleable__content pre {margin: 0.2em;color: black;border-radius: 0.25em;background-color: #f0f8ff;}#sk-container-id-6 input.sk-toggleable__control:checked~div.sk-toggleable__content {max-height: 200px;max-width: 100%;overflow: auto;}#sk-container-id-6 input.sk-toggleable__control:checked~label.sk-toggleable__label-arrow:before {content: \"▾\";}#sk-container-id-6 div.sk-estimator input.sk-toggleable__control:checked~label.sk-toggleable__label {background-color: #d4ebff;}#sk-container-id-6 div.sk-label input.sk-toggleable__control:checked~label.sk-toggleable__label {background-color: #d4ebff;}#sk-container-id-6 input.sk-hidden--visually {border: 0;clip: rect(1px 1px 1px 1px);clip: rect(1px, 1px, 1px, 1px);height: 1px;margin: -1px;overflow: hidden;padding: 0;position: absolute;width: 1px;}#sk-container-id-6 div.sk-estimator {font-family: monospace;background-color: #f0f8ff;border: 1px dotted black;border-radius: 0.25em;box-sizing: border-box;margin-bottom: 0.5em;}#sk-container-id-6 div.sk-estimator:hover {background-color: #d4ebff;}#sk-container-id-6 div.sk-parallel-item::after {content: \"\";width: 100%;border-bottom: 1px solid gray;flex-grow: 1;}#sk-container-id-6 div.sk-label:hover label.sk-toggleable__label {background-color: #d4ebff;}#sk-container-id-6 div.sk-serial::before {content: \"\";position: absolute;border-left: 1px solid gray;box-sizing: border-box;top: 0;bottom: 0;left: 50%;z-index: 0;}#sk-container-id-6 div.sk-serial {display: flex;flex-direction: column;align-items: center;background-color: white;padding-right: 0.2em;padding-left: 0.2em;position: relative;}#sk-container-id-6 div.sk-item {position: relative;z-index: 1;}#sk-container-id-6 div.sk-parallel {display: flex;align-items: stretch;justify-content: center;background-color: white;position: relative;}#sk-container-id-6 div.sk-item::before, #sk-container-id-6 div.sk-parallel-item::before {content: \"\";position: absolute;border-left: 1px solid gray;box-sizing: border-box;top: 0;bottom: 0;left: 50%;z-index: -1;}#sk-container-id-6 div.sk-parallel-item {display: flex;flex-direction: column;z-index: 1;position: relative;background-color: white;}#sk-container-id-6 div.sk-parallel-item:first-child::after {align-self: flex-end;width: 50%;}#sk-container-id-6 div.sk-parallel-item:last-child::after {align-self: flex-start;width: 50%;}#sk-container-id-6 div.sk-parallel-item:only-child::after {width: 0;}#sk-container-id-6 div.sk-dashed-wrapped {border: 1px dashed gray;margin: 0 0.4em 0.5em 0.4em;box-sizing: border-box;padding-bottom: 0.4em;background-color: white;}#sk-container-id-6 div.sk-label label {font-family: monospace;font-weight: bold;display: inline-block;line-height: 1.2em;}#sk-container-id-6 div.sk-label-container {text-align: center;}#sk-container-id-6 div.sk-container {/* jupyter's `normalize.less` sets `[hidden] { display: none; }` but bootstrap.min.css set `[hidden] { display: none !important; }` so we also need the `!important` here to be able to override the default hidden behavior on the sphinx rendered scikit-learn.org. See: https://github.com/scikit-learn/scikit-learn/issues/21755 */display: inline-block !important;position: relative;}#sk-container-id-6 div.sk-text-repr-fallback {display: none;}</style><div id=\"sk-container-id-6\" class=\"sk-top-container\"><div class=\"sk-text-repr-fallback\"><pre>GridSearchCV(cv=5, estimator=DecisionTreeRegressor(),\n",
       "             param_grid={&#x27;criterion&#x27;: [&#x27;squared_error&#x27;, &#x27;absolute_error&#x27;],\n",
       "                         &#x27;max_depth&#x27;: [3, 4, 5, 6],\n",
       "                         &#x27;min_samples_leaf&#x27;: [2, 6, 10],\n",
       "                         &#x27;min_samples_split&#x27;: [2, 6, 10]})</pre><b>In a Jupyter environment, please rerun this cell to show the HTML representation or trust the notebook. <br />On GitHub, the HTML representation is unable to render, please try loading this page with nbviewer.org.</b></div><div class=\"sk-container\" hidden><div class=\"sk-item sk-dashed-wrapped\"><div class=\"sk-label-container\"><div class=\"sk-label sk-toggleable\"><input class=\"sk-toggleable__control sk-hidden--visually\" id=\"sk-estimator-id-6\" type=\"checkbox\" ><label for=\"sk-estimator-id-6\" class=\"sk-toggleable__label sk-toggleable__label-arrow\">GridSearchCV</label><div class=\"sk-toggleable__content\"><pre>GridSearchCV(cv=5, estimator=DecisionTreeRegressor(),\n",
       "             param_grid={&#x27;criterion&#x27;: [&#x27;squared_error&#x27;, &#x27;absolute_error&#x27;],\n",
       "                         &#x27;max_depth&#x27;: [3, 4, 5, 6],\n",
       "                         &#x27;min_samples_leaf&#x27;: [2, 6, 10],\n",
       "                         &#x27;min_samples_split&#x27;: [2, 6, 10]})</pre></div></div></div><div class=\"sk-parallel\"><div class=\"sk-parallel-item\"><div class=\"sk-item\"><div class=\"sk-label-container\"><div class=\"sk-label sk-toggleable\"><input class=\"sk-toggleable__control sk-hidden--visually\" id=\"sk-estimator-id-7\" type=\"checkbox\" ><label for=\"sk-estimator-id-7\" class=\"sk-toggleable__label sk-toggleable__label-arrow\">estimator: DecisionTreeRegressor</label><div class=\"sk-toggleable__content\"><pre>DecisionTreeRegressor()</pre></div></div></div><div class=\"sk-serial\"><div class=\"sk-item\"><div class=\"sk-estimator sk-toggleable\"><input class=\"sk-toggleable__control sk-hidden--visually\" id=\"sk-estimator-id-8\" type=\"checkbox\" ><label for=\"sk-estimator-id-8\" class=\"sk-toggleable__label sk-toggleable__label-arrow\">DecisionTreeRegressor</label><div class=\"sk-toggleable__content\"><pre>DecisionTreeRegressor()</pre></div></div></div></div></div></div></div></div></div></div>"
      ],
      "text/plain": [
       "GridSearchCV(cv=5, estimator=DecisionTreeRegressor(),\n",
       "             param_grid={'criterion': ['squared_error', 'absolute_error'],\n",
       "                         'max_depth': [3, 4, 5, 6],\n",
       "                         'min_samples_leaf': [2, 6, 10],\n",
       "                         'min_samples_split': [2, 6, 10]})"
      ]
     },
     "execution_count": 116,
     "metadata": {},
     "output_type": "execute_result"
    }
   ],
   "source": [
    "grid_search.fit(X_train_new, y_train)"
   ]
  },
  {
   "cell_type": "code",
   "execution_count": 117,
   "id": "377f8686",
   "metadata": {},
   "outputs": [
    {
     "data": {
      "text/plain": [
       "{'criterion': 'squared_error',\n",
       " 'max_depth': 6,\n",
       " 'min_samples_leaf': 6,\n",
       " 'min_samples_split': 2}"
      ]
     },
     "execution_count": 117,
     "metadata": {},
     "output_type": "execute_result"
    }
   ],
   "source": [
    "#after running the above code forever, the winner is:\n",
    "grid_search.best_params_"
   ]
  },
  {
   "cell_type": "code",
   "execution_count": 32,
   "id": "9f98c339",
   "metadata": {},
   "outputs": [
    {
     "name": "stdout",
     "output_type": "stream",
     "text": [
      "Train data R2 was: 0.53\n",
      "Test data R2 was: 0.51\n"
     ]
    }
   ],
   "source": [
    "#Setting up the model with the best parameters\n",
    "regr = DecisionTreeRegressor(max_depth=6,\n",
    "                             criterion = 'squared_error',\n",
    "                             min_samples_split = 2,\n",
    "                             min_samples_leaf = 6,\n",
    "                             max_features = 91)\n",
    "\n",
    "regr.fit(X_train_new, y_train)\n",
    "\n",
    "filename = \"../Models/DecisionTree_stem.pickle\"\n",
    "\n",
    "with open(filename, \"wb\") as file:\n",
    "        pickle.dump(regr,file)\n",
    "\n",
    "print(\"Train data R2 was: {:.2f}\".format(regr.score(X_train_new, y_train)))\n",
    "print(\"Test data R2 was: {:.2f}\".format(regr.score(X_test_new, y_test)))"
   ]
  },
  {
   "cell_type": "code",
   "execution_count": 37,
   "id": "b982c164",
   "metadata": {},
   "outputs": [
    {
     "name": "stdout",
     "output_type": "stream",
     "text": [
      "Appending to functions.py\n"
     ]
    }
   ],
   "source": [
    "%%writefile -a functions.py\n",
    "def train_models(models, X_train, y_train):\n",
    "    \n",
    "    \"\"\"\n",
    "    This function trains a list of provided models.\n",
    "    Args:\n",
    "       models: a list of models with default or selected parameters\n",
    "       X_train: train set with independent variables\n",
    "       y_train: predicted variable from the train set\n",
    "    Returns:\n",
    "       trained models\n",
    "    \"\"\"\n",
    "    for model in models:\n",
    "        model.fit(X_train, y_train)\n",
    "    return models"
   ]
  },
  {
   "cell_type": "code",
   "execution_count": 47,
   "id": "1dc507fd",
   "metadata": {},
   "outputs": [],
   "source": [
    "import functions\n",
    "models = [LinearRegression(), \n",
    "          KNeighborsRegressor(n_neighbors=9, weights='uniform', p=1), \n",
    "          DecisionTreeRegressor(max_depth=6,\n",
    "                             criterion = 'squared_error',\n",
    "                             min_samples_split = 2,\n",
    "                             min_samples_leaf = 6,\n",
    "                             max_features = 91)]\n",
    "\n",
    "models = functions.train_models(models, X_train_new, y_train)"
   ]
  },
  {
   "cell_type": "code",
   "execution_count": 53,
   "id": "e12f799a",
   "metadata": {},
   "outputs": [],
   "source": [
    "from sklearn.metrics import mean_absolute_error, mean_squared_error, mean_squared_log_error, r2_score"
   ]
  },
  {
   "cell_type": "code",
   "execution_count": 54,
   "id": "134dfcad",
   "metadata": {},
   "outputs": [
    {
     "name": "stdout",
     "output_type": "stream",
     "text": [
      "Appending to functions.py\n"
     ]
    }
   ],
   "source": [
    "#%%writefile -a functions.py\n",
    "\n",
    "def error_metrics_calculations(y_true, y_pred):\n",
    "\n",
    "    \"\"\"\n",
    "    This function given a model predicted and real values calculates error metrics.\n",
    "    Args:\n",
    "       y_true: actual y values in a test set\n",
    "       y_pred: predicted by model y values\n",
    "    Returns:\n",
    "       pandas.DataFrame: the dataframe with error metrics name and values\n",
    "    \"\"\"\n",
    "        \n",
    "    error_metrics = {\"MAE\": mean_absolute_error(y_true, y_pred), 'MSE': mean_squared_error(y_true, y_pred), \n",
    "                     'RMSE': np.sqrt(mean_squared_error(y_true, y_pred)), 'MAPE': np.mean(np.abs((y_true - y_pred) / y_true)) * 100,\n",
    "                     'R2': r2_score(y_true, y_pred)}\n",
    "    df = pd.DataFrame(list(error_metrics.items()), columns=['Error_metric', 'Value'])\n",
    "    return df"
   ]
  },
  {
   "cell_type": "code",
   "execution_count": 56,
   "id": "be886e7f",
   "metadata": {
    "scrolled": true
   },
   "outputs": [
    {
     "name": "stdout",
     "output_type": "stream",
     "text": [
      "Train set: LinearRegression()\n"
     ]
    },
    {
     "data": {
      "text/html": [
       "<div>\n",
       "<style scoped>\n",
       "    .dataframe tbody tr th:only-of-type {\n",
       "        vertical-align: middle;\n",
       "    }\n",
       "\n",
       "    .dataframe tbody tr th {\n",
       "        vertical-align: top;\n",
       "    }\n",
       "\n",
       "    .dataframe thead th {\n",
       "        text-align: right;\n",
       "    }\n",
       "</style>\n",
       "<table border=\"1\" class=\"dataframe\">\n",
       "  <thead>\n",
       "    <tr style=\"text-align: right;\">\n",
       "      <th></th>\n",
       "      <th>Error_metric</th>\n",
       "      <th>Value</th>\n",
       "    </tr>\n",
       "  </thead>\n",
       "  <tbody>\n",
       "    <tr>\n",
       "      <th>0</th>\n",
       "      <td>MAE</td>\n",
       "      <td>5.370698e+04</td>\n",
       "    </tr>\n",
       "    <tr>\n",
       "      <th>1</th>\n",
       "      <td>MSE</td>\n",
       "      <td>1.002844e+10</td>\n",
       "    </tr>\n",
       "    <tr>\n",
       "      <th>2</th>\n",
       "      <td>RMSE</td>\n",
       "      <td>1.001421e+05</td>\n",
       "    </tr>\n",
       "    <tr>\n",
       "      <th>3</th>\n",
       "      <td>MAPE</td>\n",
       "      <td>3.298288e+01</td>\n",
       "    </tr>\n",
       "    <tr>\n",
       "      <th>4</th>\n",
       "      <td>R2</td>\n",
       "      <td>5.500338e-01</td>\n",
       "    </tr>\n",
       "  </tbody>\n",
       "</table>\n",
       "</div>"
      ],
      "text/plain": [
       "  Error_metric         Value\n",
       "0          MAE  5.370698e+04\n",
       "1          MSE  1.002844e+10\n",
       "2         RMSE  1.001421e+05\n",
       "3         MAPE  3.298288e+01\n",
       "4           R2  5.500338e-01"
      ]
     },
     "metadata": {},
     "output_type": "display_data"
    },
    {
     "name": "stdout",
     "output_type": "stream",
     "text": [
      "Test set: LinearRegression()\n"
     ]
    },
    {
     "data": {
      "text/html": [
       "<div>\n",
       "<style scoped>\n",
       "    .dataframe tbody tr th:only-of-type {\n",
       "        vertical-align: middle;\n",
       "    }\n",
       "\n",
       "    .dataframe tbody tr th {\n",
       "        vertical-align: top;\n",
       "    }\n",
       "\n",
       "    .dataframe thead th {\n",
       "        text-align: right;\n",
       "    }\n",
       "</style>\n",
       "<table border=\"1\" class=\"dataframe\">\n",
       "  <thead>\n",
       "    <tr style=\"text-align: right;\">\n",
       "      <th></th>\n",
       "      <th>Error_metric</th>\n",
       "      <th>Value</th>\n",
       "    </tr>\n",
       "  </thead>\n",
       "  <tbody>\n",
       "    <tr>\n",
       "      <th>0</th>\n",
       "      <td>MAE</td>\n",
       "      <td>5.482637e+04</td>\n",
       "    </tr>\n",
       "    <tr>\n",
       "      <th>1</th>\n",
       "      <td>MSE</td>\n",
       "      <td>7.876982e+09</td>\n",
       "    </tr>\n",
       "    <tr>\n",
       "      <th>2</th>\n",
       "      <td>RMSE</td>\n",
       "      <td>8.875236e+04</td>\n",
       "    </tr>\n",
       "    <tr>\n",
       "      <th>3</th>\n",
       "      <td>MAPE</td>\n",
       "      <td>3.329218e+01</td>\n",
       "    </tr>\n",
       "    <tr>\n",
       "      <th>4</th>\n",
       "      <td>R2</td>\n",
       "      <td>5.757534e-01</td>\n",
       "    </tr>\n",
       "  </tbody>\n",
       "</table>\n",
       "</div>"
      ],
      "text/plain": [
       "  Error_metric         Value\n",
       "0          MAE  5.482637e+04\n",
       "1          MSE  7.876982e+09\n",
       "2         RMSE  8.875236e+04\n",
       "3         MAPE  3.329218e+01\n",
       "4           R2  5.757534e-01"
      ]
     },
     "metadata": {},
     "output_type": "display_data"
    },
    {
     "name": "stdout",
     "output_type": "stream",
     "text": [
      "Train set: KNeighborsRegressor(n_neighbors=9, p=1)\n"
     ]
    },
    {
     "data": {
      "text/html": [
       "<div>\n",
       "<style scoped>\n",
       "    .dataframe tbody tr th:only-of-type {\n",
       "        vertical-align: middle;\n",
       "    }\n",
       "\n",
       "    .dataframe tbody tr th {\n",
       "        vertical-align: top;\n",
       "    }\n",
       "\n",
       "    .dataframe thead th {\n",
       "        text-align: right;\n",
       "    }\n",
       "</style>\n",
       "<table border=\"1\" class=\"dataframe\">\n",
       "  <thead>\n",
       "    <tr style=\"text-align: right;\">\n",
       "      <th></th>\n",
       "      <th>Error_metric</th>\n",
       "      <th>Value</th>\n",
       "    </tr>\n",
       "  </thead>\n",
       "  <tbody>\n",
       "    <tr>\n",
       "      <th>0</th>\n",
       "      <td>MAE</td>\n",
       "      <td>4.861953e+04</td>\n",
       "    </tr>\n",
       "    <tr>\n",
       "      <th>1</th>\n",
       "      <td>MSE</td>\n",
       "      <td>8.666207e+09</td>\n",
       "    </tr>\n",
       "    <tr>\n",
       "      <th>2</th>\n",
       "      <td>RMSE</td>\n",
       "      <td>9.309246e+04</td>\n",
       "    </tr>\n",
       "    <tr>\n",
       "      <th>3</th>\n",
       "      <td>MAPE</td>\n",
       "      <td>2.921082e+01</td>\n",
       "    </tr>\n",
       "    <tr>\n",
       "      <th>4</th>\n",
       "      <td>R2</td>\n",
       "      <td>6.111558e-01</td>\n",
       "    </tr>\n",
       "  </tbody>\n",
       "</table>\n",
       "</div>"
      ],
      "text/plain": [
       "  Error_metric         Value\n",
       "0          MAE  4.861953e+04\n",
       "1          MSE  8.666207e+09\n",
       "2         RMSE  9.309246e+04\n",
       "3         MAPE  2.921082e+01\n",
       "4           R2  6.111558e-01"
      ]
     },
     "metadata": {},
     "output_type": "display_data"
    },
    {
     "name": "stdout",
     "output_type": "stream",
     "text": [
      "Test set: KNeighborsRegressor(n_neighbors=9, p=1)\n"
     ]
    },
    {
     "data": {
      "text/html": [
       "<div>\n",
       "<style scoped>\n",
       "    .dataframe tbody tr th:only-of-type {\n",
       "        vertical-align: middle;\n",
       "    }\n",
       "\n",
       "    .dataframe tbody tr th {\n",
       "        vertical-align: top;\n",
       "    }\n",
       "\n",
       "    .dataframe thead th {\n",
       "        text-align: right;\n",
       "    }\n",
       "</style>\n",
       "<table border=\"1\" class=\"dataframe\">\n",
       "  <thead>\n",
       "    <tr style=\"text-align: right;\">\n",
       "      <th></th>\n",
       "      <th>Error_metric</th>\n",
       "      <th>Value</th>\n",
       "    </tr>\n",
       "  </thead>\n",
       "  <tbody>\n",
       "    <tr>\n",
       "      <th>0</th>\n",
       "      <td>MAE</td>\n",
       "      <td>5.486385e+04</td>\n",
       "    </tr>\n",
       "    <tr>\n",
       "      <th>1</th>\n",
       "      <td>MSE</td>\n",
       "      <td>7.824141e+09</td>\n",
       "    </tr>\n",
       "    <tr>\n",
       "      <th>2</th>\n",
       "      <td>RMSE</td>\n",
       "      <td>8.845417e+04</td>\n",
       "    </tr>\n",
       "    <tr>\n",
       "      <th>3</th>\n",
       "      <td>MAPE</td>\n",
       "      <td>3.288207e+01</td>\n",
       "    </tr>\n",
       "    <tr>\n",
       "      <th>4</th>\n",
       "      <td>R2</td>\n",
       "      <td>5.785994e-01</td>\n",
       "    </tr>\n",
       "  </tbody>\n",
       "</table>\n",
       "</div>"
      ],
      "text/plain": [
       "  Error_metric         Value\n",
       "0          MAE  5.486385e+04\n",
       "1          MSE  7.824141e+09\n",
       "2         RMSE  8.845417e+04\n",
       "3         MAPE  3.288207e+01\n",
       "4           R2  5.785994e-01"
      ]
     },
     "metadata": {},
     "output_type": "display_data"
    },
    {
     "name": "stdout",
     "output_type": "stream",
     "text": [
      "Train set: DecisionTreeRegressor(max_depth=6, max_features=91, min_samples_leaf=6)\n"
     ]
    },
    {
     "data": {
      "text/html": [
       "<div>\n",
       "<style scoped>\n",
       "    .dataframe tbody tr th:only-of-type {\n",
       "        vertical-align: middle;\n",
       "    }\n",
       "\n",
       "    .dataframe tbody tr th {\n",
       "        vertical-align: top;\n",
       "    }\n",
       "\n",
       "    .dataframe thead th {\n",
       "        text-align: right;\n",
       "    }\n",
       "</style>\n",
       "<table border=\"1\" class=\"dataframe\">\n",
       "  <thead>\n",
       "    <tr style=\"text-align: right;\">\n",
       "      <th></th>\n",
       "      <th>Error_metric</th>\n",
       "      <th>Value</th>\n",
       "    </tr>\n",
       "  </thead>\n",
       "  <tbody>\n",
       "    <tr>\n",
       "      <th>0</th>\n",
       "      <td>MAE</td>\n",
       "      <td>5.885997e+04</td>\n",
       "    </tr>\n",
       "    <tr>\n",
       "      <th>1</th>\n",
       "      <td>MSE</td>\n",
       "      <td>1.041023e+10</td>\n",
       "    </tr>\n",
       "    <tr>\n",
       "      <th>2</th>\n",
       "      <td>RMSE</td>\n",
       "      <td>1.020305e+05</td>\n",
       "    </tr>\n",
       "    <tr>\n",
       "      <th>3</th>\n",
       "      <td>MAPE</td>\n",
       "      <td>3.443420e+01</td>\n",
       "    </tr>\n",
       "    <tr>\n",
       "      <th>4</th>\n",
       "      <td>R2</td>\n",
       "      <td>5.329031e-01</td>\n",
       "    </tr>\n",
       "  </tbody>\n",
       "</table>\n",
       "</div>"
      ],
      "text/plain": [
       "  Error_metric         Value\n",
       "0          MAE  5.885997e+04\n",
       "1          MSE  1.041023e+10\n",
       "2         RMSE  1.020305e+05\n",
       "3         MAPE  3.443420e+01\n",
       "4           R2  5.329031e-01"
      ]
     },
     "metadata": {},
     "output_type": "display_data"
    },
    {
     "name": "stdout",
     "output_type": "stream",
     "text": [
      "Test set: DecisionTreeRegressor(max_depth=6, max_features=91, min_samples_leaf=6)\n"
     ]
    },
    {
     "data": {
      "text/html": [
       "<div>\n",
       "<style scoped>\n",
       "    .dataframe tbody tr th:only-of-type {\n",
       "        vertical-align: middle;\n",
       "    }\n",
       "\n",
       "    .dataframe tbody tr th {\n",
       "        vertical-align: top;\n",
       "    }\n",
       "\n",
       "    .dataframe thead th {\n",
       "        text-align: right;\n",
       "    }\n",
       "</style>\n",
       "<table border=\"1\" class=\"dataframe\">\n",
       "  <thead>\n",
       "    <tr style=\"text-align: right;\">\n",
       "      <th></th>\n",
       "      <th>Error_metric</th>\n",
       "      <th>Value</th>\n",
       "    </tr>\n",
       "  </thead>\n",
       "  <tbody>\n",
       "    <tr>\n",
       "      <th>0</th>\n",
       "      <td>MAE</td>\n",
       "      <td>5.961114e+04</td>\n",
       "    </tr>\n",
       "    <tr>\n",
       "      <th>1</th>\n",
       "      <td>MSE</td>\n",
       "      <td>9.081887e+09</td>\n",
       "    </tr>\n",
       "    <tr>\n",
       "      <th>2</th>\n",
       "      <td>RMSE</td>\n",
       "      <td>9.529893e+04</td>\n",
       "    </tr>\n",
       "    <tr>\n",
       "      <th>3</th>\n",
       "      <td>MAPE</td>\n",
       "      <td>3.500258e+01</td>\n",
       "    </tr>\n",
       "    <tr>\n",
       "      <th>4</th>\n",
       "      <td>R2</td>\n",
       "      <td>5.108584e-01</td>\n",
       "    </tr>\n",
       "  </tbody>\n",
       "</table>\n",
       "</div>"
      ],
      "text/plain": [
       "  Error_metric         Value\n",
       "0          MAE  5.961114e+04\n",
       "1          MSE  9.081887e+09\n",
       "2         RMSE  9.529893e+04\n",
       "3         MAPE  3.500258e+01\n",
       "4           R2  5.108584e-01"
      ]
     },
     "metadata": {},
     "output_type": "display_data"
    }
   ],
   "source": [
    "#import functions\n",
    "for model in models:\n",
    "    y_pred = model.predict(X_train_new)\n",
    "    print(\"Train set:\", model)\n",
    "    display(error_metrics_calculations(y_train, y_pred))\n",
    "    y_pred = model.predict(X_test_new)\n",
    "    print(\"Test set:\", model)\n",
    "    display(error_metrics_calculations(y_test, y_pred))\n"
   ]
  },
  {
   "cell_type": "code",
   "execution_count": null,
   "id": "c3c6c330",
   "metadata": {},
   "outputs": [],
   "source": []
  }
 ],
 "metadata": {
  "kernelspec": {
   "display_name": "next-env",
   "language": "python",
   "name": "next-env"
  },
  "language_info": {
   "codemirror_mode": {
    "name": "ipython",
    "version": 3
   },
   "file_extension": ".py",
   "mimetype": "text/x-python",
   "name": "python",
   "nbconvert_exporter": "python",
   "pygments_lexer": "ipython3",
   "version": "3.9.13"
  }
 },
 "nbformat": 4,
 "nbformat_minor": 5
}
