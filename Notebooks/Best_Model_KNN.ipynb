{
 "cells": [
  {
   "cell_type": "code",
   "execution_count": 30,
   "id": "e4844983",
   "metadata": {},
   "outputs": [],
   "source": [
    "import pandas as pd\n",
    "import numpy as np\n",
    "import seaborn as sns\n",
    "import matplotlib.pyplot as plt\n",
    "%matplotlib inline\n",
    "from sklearn.model_selection import train_test_split\n",
    "from sklearn.preprocessing import PowerTransformer\n",
    "from sklearn.preprocessing import MinMaxScaler\n",
    "import pickle\n",
    "from sklearn.metrics import mean_absolute_error, mean_squared_error, mean_squared_log_error, r2_score\n",
    "from sklearn.neighbors import KNeighborsRegressor"
   ]
  },
  {
   "cell_type": "code",
   "execution_count": 31,
   "id": "15b3b133",
   "metadata": {},
   "outputs": [],
   "source": [
    "data = pd.read_csv(\"..\\Data\\clean_data_for_model.csv\")"
   ]
  },
  {
   "cell_type": "code",
   "execution_count": 32,
   "id": "ba24afd8",
   "metadata": {},
   "outputs": [
    {
     "data": {
      "text/html": [
       "<div>\n",
       "<style scoped>\n",
       "    .dataframe tbody tr th:only-of-type {\n",
       "        vertical-align: middle;\n",
       "    }\n",
       "\n",
       "    .dataframe tbody tr th {\n",
       "        vertical-align: top;\n",
       "    }\n",
       "\n",
       "    .dataframe thead th {\n",
       "        text-align: right;\n",
       "    }\n",
       "</style>\n",
       "<table border=\"1\" class=\"dataframe\">\n",
       "  <thead>\n",
       "    <tr style=\"text-align: right;\">\n",
       "      <th></th>\n",
       "      <th>company_Accenture</th>\n",
       "      <th>company_Adobe</th>\n",
       "      <th>company_Amazon</th>\n",
       "      <th>company_Apple</th>\n",
       "      <th>company_Atlassian</th>\n",
       "      <th>company_Bloomberg</th>\n",
       "      <th>company_ByteDance</th>\n",
       "      <th>company_Capital One</th>\n",
       "      <th>company_Cisco</th>\n",
       "      <th>company_Dell Technologies</th>\n",
       "      <th>...</th>\n",
       "      <th>region_South America</th>\n",
       "      <th>region_South-Eastern Asia</th>\n",
       "      <th>region_Southern Europe</th>\n",
       "      <th>region_UK&amp;IRE</th>\n",
       "      <th>region_USA</th>\n",
       "      <th>region_Western Europe</th>\n",
       "      <th>totalyearlycompensation</th>\n",
       "      <th>yearsofexperience</th>\n",
       "      <th>yearsatcompany</th>\n",
       "      <th>education</th>\n",
       "    </tr>\n",
       "  </thead>\n",
       "  <tbody>\n",
       "    <tr>\n",
       "      <th>0</th>\n",
       "      <td>0.0</td>\n",
       "      <td>0.0</td>\n",
       "      <td>0.0</td>\n",
       "      <td>0.0</td>\n",
       "      <td>0.0</td>\n",
       "      <td>0.0</td>\n",
       "      <td>0.0</td>\n",
       "      <td>0.0</td>\n",
       "      <td>0.0</td>\n",
       "      <td>0.0</td>\n",
       "      <td>...</td>\n",
       "      <td>0.0</td>\n",
       "      <td>0.0</td>\n",
       "      <td>0.0</td>\n",
       "      <td>0.0</td>\n",
       "      <td>1.0</td>\n",
       "      <td>0.0</td>\n",
       "      <td>150000</td>\n",
       "      <td>5.0</td>\n",
       "      <td>2.0</td>\n",
       "      <td>3.0</td>\n",
       "    </tr>\n",
       "    <tr>\n",
       "      <th>1</th>\n",
       "      <td>0.0</td>\n",
       "      <td>0.0</td>\n",
       "      <td>0.0</td>\n",
       "      <td>0.0</td>\n",
       "      <td>0.0</td>\n",
       "      <td>0.0</td>\n",
       "      <td>0.0</td>\n",
       "      <td>0.0</td>\n",
       "      <td>0.0</td>\n",
       "      <td>0.0</td>\n",
       "      <td>...</td>\n",
       "      <td>0.0</td>\n",
       "      <td>0.0</td>\n",
       "      <td>0.0</td>\n",
       "      <td>0.0</td>\n",
       "      <td>1.0</td>\n",
       "      <td>0.0</td>\n",
       "      <td>242000</td>\n",
       "      <td>20.0</td>\n",
       "      <td>0.0</td>\n",
       "      <td>4.0</td>\n",
       "    </tr>\n",
       "    <tr>\n",
       "      <th>2</th>\n",
       "      <td>0.0</td>\n",
       "      <td>0.0</td>\n",
       "      <td>0.0</td>\n",
       "      <td>0.0</td>\n",
       "      <td>0.0</td>\n",
       "      <td>0.0</td>\n",
       "      <td>0.0</td>\n",
       "      <td>0.0</td>\n",
       "      <td>0.0</td>\n",
       "      <td>0.0</td>\n",
       "      <td>...</td>\n",
       "      <td>0.0</td>\n",
       "      <td>0.0</td>\n",
       "      <td>0.0</td>\n",
       "      <td>0.0</td>\n",
       "      <td>1.0</td>\n",
       "      <td>0.0</td>\n",
       "      <td>121000</td>\n",
       "      <td>0.0</td>\n",
       "      <td>0.0</td>\n",
       "      <td>3.0</td>\n",
       "    </tr>\n",
       "    <tr>\n",
       "      <th>3</th>\n",
       "      <td>0.0</td>\n",
       "      <td>0.0</td>\n",
       "      <td>0.0</td>\n",
       "      <td>0.0</td>\n",
       "      <td>0.0</td>\n",
       "      <td>0.0</td>\n",
       "      <td>0.0</td>\n",
       "      <td>0.0</td>\n",
       "      <td>0.0</td>\n",
       "      <td>0.0</td>\n",
       "      <td>...</td>\n",
       "      <td>0.0</td>\n",
       "      <td>0.0</td>\n",
       "      <td>0.0</td>\n",
       "      <td>0.0</td>\n",
       "      <td>1.0</td>\n",
       "      <td>0.0</td>\n",
       "      <td>160000</td>\n",
       "      <td>4.0</td>\n",
       "      <td>2.0</td>\n",
       "      <td>4.0</td>\n",
       "    </tr>\n",
       "    <tr>\n",
       "      <th>4</th>\n",
       "      <td>0.0</td>\n",
       "      <td>0.0</td>\n",
       "      <td>0.0</td>\n",
       "      <td>0.0</td>\n",
       "      <td>0.0</td>\n",
       "      <td>0.0</td>\n",
       "      <td>0.0</td>\n",
       "      <td>0.0</td>\n",
       "      <td>0.0</td>\n",
       "      <td>0.0</td>\n",
       "      <td>...</td>\n",
       "      <td>0.0</td>\n",
       "      <td>0.0</td>\n",
       "      <td>0.0</td>\n",
       "      <td>0.0</td>\n",
       "      <td>1.0</td>\n",
       "      <td>0.0</td>\n",
       "      <td>150000</td>\n",
       "      <td>10.0</td>\n",
       "      <td>4.0</td>\n",
       "      <td>1.0</td>\n",
       "    </tr>\n",
       "  </tbody>\n",
       "</table>\n",
       "<p>5 rows × 92 columns</p>\n",
       "</div>"
      ],
      "text/plain": [
       "   company_Accenture  company_Adobe  company_Amazon  company_Apple   \n",
       "0                0.0            0.0             0.0            0.0  \\\n",
       "1                0.0            0.0             0.0            0.0   \n",
       "2                0.0            0.0             0.0            0.0   \n",
       "3                0.0            0.0             0.0            0.0   \n",
       "4                0.0            0.0             0.0            0.0   \n",
       "\n",
       "   company_Atlassian  company_Bloomberg  company_ByteDance   \n",
       "0                0.0                0.0                0.0  \\\n",
       "1                0.0                0.0                0.0   \n",
       "2                0.0                0.0                0.0   \n",
       "3                0.0                0.0                0.0   \n",
       "4                0.0                0.0                0.0   \n",
       "\n",
       "   company_Capital One  company_Cisco  company_Dell Technologies  ...   \n",
       "0                  0.0            0.0                        0.0  ...  \\\n",
       "1                  0.0            0.0                        0.0  ...   \n",
       "2                  0.0            0.0                        0.0  ...   \n",
       "3                  0.0            0.0                        0.0  ...   \n",
       "4                  0.0            0.0                        0.0  ...   \n",
       "\n",
       "   region_South America  region_South-Eastern Asia  region_Southern Europe   \n",
       "0                   0.0                        0.0                     0.0  \\\n",
       "1                   0.0                        0.0                     0.0   \n",
       "2                   0.0                        0.0                     0.0   \n",
       "3                   0.0                        0.0                     0.0   \n",
       "4                   0.0                        0.0                     0.0   \n",
       "\n",
       "   region_UK&IRE  region_USA  region_Western Europe  totalyearlycompensation   \n",
       "0            0.0         1.0                    0.0                   150000  \\\n",
       "1            0.0         1.0                    0.0                   242000   \n",
       "2            0.0         1.0                    0.0                   121000   \n",
       "3            0.0         1.0                    0.0                   160000   \n",
       "4            0.0         1.0                    0.0                   150000   \n",
       "\n",
       "   yearsofexperience  yearsatcompany  education  \n",
       "0                5.0             2.0        3.0  \n",
       "1               20.0             0.0        4.0  \n",
       "2                0.0             0.0        3.0  \n",
       "3                4.0             2.0        4.0  \n",
       "4               10.0             4.0        1.0  \n",
       "\n",
       "[5 rows x 92 columns]"
      ]
     },
     "execution_count": 32,
     "metadata": {},
     "output_type": "execute_result"
    }
   ],
   "source": [
    "data.head()"
   ]
  },
  {
   "cell_type": "code",
   "execution_count": 33,
   "id": "befebbf1",
   "metadata": {},
   "outputs": [],
   "source": [
    "#X, y split:"
   ]
  },
  {
   "cell_type": "code",
   "execution_count": 34,
   "id": "c3a0a2a6",
   "metadata": {},
   "outputs": [],
   "source": [
    "y = data[\"totalyearlycompensation\"]\n",
    "X = data.drop([\"totalyearlycompensation\"],axis =1)"
   ]
  },
  {
   "cell_type": "code",
   "execution_count": 35,
   "id": "e46fe051",
   "metadata": {},
   "outputs": [],
   "source": [
    "# Train test split:"
   ]
  },
  {
   "cell_type": "code",
   "execution_count": 36,
   "id": "f79e89a4",
   "metadata": {},
   "outputs": [],
   "source": [
    "X_train, X_test, y_train, y_test = train_test_split(X, y, test_size=0.3, random_state=28)"
   ]
  },
  {
   "cell_type": "code",
   "execution_count": 37,
   "id": "e566265d",
   "metadata": {},
   "outputs": [
    {
     "name": "stdout",
     "output_type": "stream",
     "text": [
      "(16348, 91)\n",
      "(7007, 91)\n"
     ]
    }
   ],
   "source": [
    "print(X_train.shape)\n",
    "print(X_test.shape)"
   ]
  },
  {
   "cell_type": "code",
   "execution_count": 38,
   "id": "8a0c4293",
   "metadata": {},
   "outputs": [],
   "source": [
    "# Separating original numerical columns to apply transformation and scaling on them, and encoded columns until further merge:"
   ]
  },
  {
   "cell_type": "code",
   "execution_count": 39,
   "id": "1de6c2c7",
   "metadata": {},
   "outputs": [],
   "source": [
    "X_train_num = X_train[[\"yearsofexperience\", \"yearsatcompany\", \"education\"]]\n",
    "X_test_num = X_test[[\"yearsofexperience\", \"yearsatcompany\", \"education\"]]"
   ]
  },
  {
   "cell_type": "code",
   "execution_count": 40,
   "id": "22d0b207",
   "metadata": {},
   "outputs": [],
   "source": [
    "columns_to_drop = [\"yearsofexperience\", \"yearsatcompany\", \"education\"]\n",
    "X_train_enc = X_train.drop(columns=columns_to_drop)\n",
    "X_test_enc = X_test.drop(columns=columns_to_drop)"
   ]
  },
  {
   "cell_type": "code",
   "execution_count": 41,
   "id": "e2d3f11a",
   "metadata": {},
   "outputs": [],
   "source": [
    "# Transforming data with PowerTransformer in order to make distribution more normal.\n",
    "# As a result we will see that all means are almost 0, and all std.deviations are around 1"
   ]
  },
  {
   "cell_type": "code",
   "execution_count": 42,
   "id": "b2ab16d3",
   "metadata": {},
   "outputs": [],
   "source": [
    "pt = PowerTransformer()\n",
    "pt.fit(X_train_num) # only to the numericals, not the encoded\n",
    "\n",
    "filename = \"../Transformers/PowerTransformer_stem.pickle\"\n",
    "\n",
    "with open(filename, \"wb\") as file:\n",
    "        pickle.dump(pt,file)\n",
    "        \n",
    "X_train_transformed_np = pt.transform(X_train_num)\n",
    "X_train_transformed_df =pd.DataFrame(pt.transform(X_train_num), columns=X_train_num.columns)\n",
    "\n",
    "X_test_transformed_np = pt.transform(X_test_num)\n",
    "X_test_transformed_df =pd.DataFrame(pt.transform(X_test_num), columns=X_test_num.columns)"
   ]
  },
  {
   "cell_type": "code",
   "execution_count": 43,
   "id": "98b3a536",
   "metadata": {},
   "outputs": [
    {
     "data": {
      "text/html": [
       "<div>\n",
       "<style scoped>\n",
       "    .dataframe tbody tr th:only-of-type {\n",
       "        vertical-align: middle;\n",
       "    }\n",
       "\n",
       "    .dataframe tbody tr th {\n",
       "        vertical-align: top;\n",
       "    }\n",
       "\n",
       "    .dataframe thead th {\n",
       "        text-align: right;\n",
       "    }\n",
       "</style>\n",
       "<table border=\"1\" class=\"dataframe\">\n",
       "  <thead>\n",
       "    <tr style=\"text-align: right;\">\n",
       "      <th></th>\n",
       "      <th>count</th>\n",
       "      <th>mean</th>\n",
       "      <th>std</th>\n",
       "      <th>min</th>\n",
       "      <th>25%</th>\n",
       "      <th>50%</th>\n",
       "      <th>75%</th>\n",
       "      <th>max</th>\n",
       "    </tr>\n",
       "  </thead>\n",
       "  <tbody>\n",
       "    <tr>\n",
       "      <th>yearsofexperience</th>\n",
       "      <td>16348.0</td>\n",
       "      <td>1.260444e-17</td>\n",
       "      <td>1.000031</td>\n",
       "      <td>-2.018261</td>\n",
       "      <td>-0.663178</td>\n",
       "      <td>0.042522</td>\n",
       "      <td>0.694595</td>\n",
       "      <td>3.108107</td>\n",
       "    </tr>\n",
       "    <tr>\n",
       "      <th>yearsatcompany</th>\n",
       "      <td>16348.0</td>\n",
       "      <td>-2.260107e-17</td>\n",
       "      <td>1.000031</td>\n",
       "      <td>-1.335874</td>\n",
       "      <td>-1.335874</td>\n",
       "      <td>0.187082</td>\n",
       "      <td>0.816124</td>\n",
       "      <td>2.964501</td>\n",
       "    </tr>\n",
       "    <tr>\n",
       "      <th>education</th>\n",
       "      <td>16348.0</td>\n",
       "      <td>1.080070e-16</td>\n",
       "      <td>1.000031</td>\n",
       "      <td>-3.227088</td>\n",
       "      <td>-0.925364</td>\n",
       "      <td>0.717539</td>\n",
       "      <td>0.717539</td>\n",
       "      <td>2.675278</td>\n",
       "    </tr>\n",
       "  </tbody>\n",
       "</table>\n",
       "</div>"
      ],
      "text/plain": [
       "                     count          mean       std       min       25%   \n",
       "yearsofexperience  16348.0  1.260444e-17  1.000031 -2.018261 -0.663178  \\\n",
       "yearsatcompany     16348.0 -2.260107e-17  1.000031 -1.335874 -1.335874   \n",
       "education          16348.0  1.080070e-16  1.000031 -3.227088 -0.925364   \n",
       "\n",
       "                        50%       75%       max  \n",
       "yearsofexperience  0.042522  0.694595  3.108107  \n",
       "yearsatcompany     0.187082  0.816124  2.964501  \n",
       "education          0.717539  0.717539  2.675278  "
      ]
     },
     "execution_count": 43,
     "metadata": {},
     "output_type": "execute_result"
    }
   ],
   "source": [
    "X_train_transformed_df.describe().T"
   ]
  },
  {
   "cell_type": "code",
   "execution_count": 44,
   "id": "2f60a83c",
   "metadata": {},
   "outputs": [
    {
     "data": {
      "text/html": [
       "<div>\n",
       "<style scoped>\n",
       "    .dataframe tbody tr th:only-of-type {\n",
       "        vertical-align: middle;\n",
       "    }\n",
       "\n",
       "    .dataframe tbody tr th {\n",
       "        vertical-align: top;\n",
       "    }\n",
       "\n",
       "    .dataframe thead th {\n",
       "        text-align: right;\n",
       "    }\n",
       "</style>\n",
       "<table border=\"1\" class=\"dataframe\">\n",
       "  <thead>\n",
       "    <tr style=\"text-align: right;\">\n",
       "      <th></th>\n",
       "      <th>count</th>\n",
       "      <th>mean</th>\n",
       "      <th>std</th>\n",
       "      <th>min</th>\n",
       "      <th>25%</th>\n",
       "      <th>50%</th>\n",
       "      <th>75%</th>\n",
       "      <th>max</th>\n",
       "    </tr>\n",
       "  </thead>\n",
       "  <tbody>\n",
       "    <tr>\n",
       "      <th>yearsofexperience</th>\n",
       "      <td>7007.0</td>\n",
       "      <td>0.002668</td>\n",
       "      <td>1.003211</td>\n",
       "      <td>-2.018261</td>\n",
       "      <td>-0.663178</td>\n",
       "      <td>0.042522</td>\n",
       "      <td>0.694595</td>\n",
       "      <td>4.358662</td>\n",
       "    </tr>\n",
       "    <tr>\n",
       "      <th>yearsatcompany</th>\n",
       "      <td>7007.0</td>\n",
       "      <td>-0.000027</td>\n",
       "      <td>0.989415</td>\n",
       "      <td>-1.335874</td>\n",
       "      <td>-1.335874</td>\n",
       "      <td>0.187082</td>\n",
       "      <td>0.816124</td>\n",
       "      <td>3.413233</td>\n",
       "    </tr>\n",
       "    <tr>\n",
       "      <th>education</th>\n",
       "      <td>7007.0</td>\n",
       "      <td>-0.021020</td>\n",
       "      <td>0.998390</td>\n",
       "      <td>-3.227088</td>\n",
       "      <td>-0.925364</td>\n",
       "      <td>0.717539</td>\n",
       "      <td>0.717539</td>\n",
       "      <td>2.675278</td>\n",
       "    </tr>\n",
       "  </tbody>\n",
       "</table>\n",
       "</div>"
      ],
      "text/plain": [
       "                    count      mean       std       min       25%       50%   \n",
       "yearsofexperience  7007.0  0.002668  1.003211 -2.018261 -0.663178  0.042522  \\\n",
       "yearsatcompany     7007.0 -0.000027  0.989415 -1.335874 -1.335874  0.187082   \n",
       "education          7007.0 -0.021020  0.998390 -3.227088 -0.925364  0.717539   \n",
       "\n",
       "                        75%       max  \n",
       "yearsofexperience  0.694595  4.358662  \n",
       "yearsatcompany     0.816124  3.413233  \n",
       "education          0.717539  2.675278  "
      ]
     },
     "execution_count": 44,
     "metadata": {},
     "output_type": "execute_result"
    }
   ],
   "source": [
    "X_test_transformed_df.describe().T"
   ]
  },
  {
   "cell_type": "code",
   "execution_count": 45,
   "id": "65d04226",
   "metadata": {},
   "outputs": [
    {
     "data": {
      "text/html": [
       "<div>\n",
       "<style scoped>\n",
       "    .dataframe tbody tr th:only-of-type {\n",
       "        vertical-align: middle;\n",
       "    }\n",
       "\n",
       "    .dataframe tbody tr th {\n",
       "        vertical-align: top;\n",
       "    }\n",
       "\n",
       "    .dataframe thead th {\n",
       "        text-align: right;\n",
       "    }\n",
       "</style>\n",
       "<table border=\"1\" class=\"dataframe\">\n",
       "  <thead>\n",
       "    <tr style=\"text-align: right;\">\n",
       "      <th></th>\n",
       "      <th>yearsofexperience</th>\n",
       "      <th>yearsatcompany</th>\n",
       "      <th>education</th>\n",
       "    </tr>\n",
       "  </thead>\n",
       "  <tbody>\n",
       "    <tr>\n",
       "      <th>0</th>\n",
       "      <td>-0.663178</td>\n",
       "      <td>-0.346743</td>\n",
       "      <td>0.717539</td>\n",
       "    </tr>\n",
       "    <tr>\n",
       "      <th>1</th>\n",
       "      <td>0.829401</td>\n",
       "      <td>-0.346743</td>\n",
       "      <td>0.717539</td>\n",
       "    </tr>\n",
       "    <tr>\n",
       "      <th>2</th>\n",
       "      <td>0.395370</td>\n",
       "      <td>1.484157</td>\n",
       "      <td>0.717539</td>\n",
       "    </tr>\n",
       "    <tr>\n",
       "      <th>3</th>\n",
       "      <td>-0.986981</td>\n",
       "      <td>0.187082</td>\n",
       "      <td>-0.925364</td>\n",
       "    </tr>\n",
       "    <tr>\n",
       "      <th>4</th>\n",
       "      <td>1.298042</td>\n",
       "      <td>1.029508</td>\n",
       "      <td>-0.925364</td>\n",
       "    </tr>\n",
       "  </tbody>\n",
       "</table>\n",
       "</div>"
      ],
      "text/plain": [
       "   yearsofexperience  yearsatcompany  education\n",
       "0          -0.663178       -0.346743   0.717539\n",
       "1           0.829401       -0.346743   0.717539\n",
       "2           0.395370        1.484157   0.717539\n",
       "3          -0.986981        0.187082  -0.925364\n",
       "4           1.298042        1.029508  -0.925364"
      ]
     },
     "execution_count": 45,
     "metadata": {},
     "output_type": "execute_result"
    }
   ],
   "source": [
    "X_train_transformed_df.head()"
   ]
  },
  {
   "cell_type": "code",
   "execution_count": 46,
   "id": "0e9d5478",
   "metadata": {},
   "outputs": [],
   "source": [
    "# Scaling data with MinMaxScaler in order to make the range of values in all variable the same.\n",
    "# As a result we will see that all the min values are 0, and all teh max values are 1."
   ]
  },
  {
   "cell_type": "code",
   "execution_count": 47,
   "id": "f1c89623",
   "metadata": {},
   "outputs": [],
   "source": [
    "scaler = MinMaxScaler().fit(X_train_transformed_df)\n",
    "\n",
    "filename = \"../Scalers/MinMaxScaler_stem.pickle\"\n",
    "\n",
    "with open(filename, \"wb\") as file:\n",
    "        pickle.dump(scaler,file)\n",
    "\n",
    "X_train_trans_scaled = scaler.transform(X_train_transformed_df) # only on the numericals transformed\n",
    "X_train_trans_scaled_df = pd.DataFrame(X_train_trans_scaled, columns=X_train_transformed_df.columns)\n",
    "\n",
    "X_test_trans_scaled = scaler.transform(X_test_transformed_df)\n",
    "X_test_trans_scaled_df = pd.DataFrame(X_test_trans_scaled, columns=X_test_transformed_df.columns)"
   ]
  },
  {
   "cell_type": "code",
   "execution_count": 48,
   "id": "81a1bdf5",
   "metadata": {},
   "outputs": [
    {
     "data": {
      "text/html": [
       "<div>\n",
       "<style scoped>\n",
       "    .dataframe tbody tr th:only-of-type {\n",
       "        vertical-align: middle;\n",
       "    }\n",
       "\n",
       "    .dataframe tbody tr th {\n",
       "        vertical-align: top;\n",
       "    }\n",
       "\n",
       "    .dataframe thead th {\n",
       "        text-align: right;\n",
       "    }\n",
       "</style>\n",
       "<table border=\"1\" class=\"dataframe\">\n",
       "  <thead>\n",
       "    <tr style=\"text-align: right;\">\n",
       "      <th></th>\n",
       "      <th>count</th>\n",
       "      <th>mean</th>\n",
       "      <th>std</th>\n",
       "      <th>min</th>\n",
       "      <th>25%</th>\n",
       "      <th>50%</th>\n",
       "      <th>75%</th>\n",
       "      <th>max</th>\n",
       "    </tr>\n",
       "  </thead>\n",
       "  <tbody>\n",
       "    <tr>\n",
       "      <th>yearsofexperience</th>\n",
       "      <td>16348.0</td>\n",
       "      <td>0.393702</td>\n",
       "      <td>0.195076</td>\n",
       "      <td>0.0</td>\n",
       "      <td>0.264336</td>\n",
       "      <td>0.401997</td>\n",
       "      <td>0.529196</td>\n",
       "      <td>1.0</td>\n",
       "    </tr>\n",
       "    <tr>\n",
       "      <th>yearsatcompany</th>\n",
       "      <td>16348.0</td>\n",
       "      <td>0.310641</td>\n",
       "      <td>0.232545</td>\n",
       "      <td>0.0</td>\n",
       "      <td>0.000000</td>\n",
       "      <td>0.354145</td>\n",
       "      <td>0.500421</td>\n",
       "      <td>1.0</td>\n",
       "    </tr>\n",
       "    <tr>\n",
       "      <th>education</th>\n",
       "      <td>16348.0</td>\n",
       "      <td>0.546745</td>\n",
       "      <td>0.169429</td>\n",
       "      <td>0.0</td>\n",
       "      <td>0.389966</td>\n",
       "      <td>0.668313</td>\n",
       "      <td>0.668313</td>\n",
       "      <td>1.0</td>\n",
       "    </tr>\n",
       "  </tbody>\n",
       "</table>\n",
       "</div>"
      ],
      "text/plain": [
       "                     count      mean       std  min       25%       50%   \n",
       "yearsofexperience  16348.0  0.393702  0.195076  0.0  0.264336  0.401997  \\\n",
       "yearsatcompany     16348.0  0.310641  0.232545  0.0  0.000000  0.354145   \n",
       "education          16348.0  0.546745  0.169429  0.0  0.389966  0.668313   \n",
       "\n",
       "                        75%  max  \n",
       "yearsofexperience  0.529196  1.0  \n",
       "yearsatcompany     0.500421  1.0  \n",
       "education          0.668313  1.0  "
      ]
     },
     "execution_count": 48,
     "metadata": {},
     "output_type": "execute_result"
    }
   ],
   "source": [
    "X_train_trans_scaled_df.describe().T"
   ]
  },
  {
   "cell_type": "code",
   "execution_count": 49,
   "id": "1bf172af",
   "metadata": {},
   "outputs": [
    {
     "data": {
      "text/html": [
       "<div>\n",
       "<style scoped>\n",
       "    .dataframe tbody tr th:only-of-type {\n",
       "        vertical-align: middle;\n",
       "    }\n",
       "\n",
       "    .dataframe tbody tr th {\n",
       "        vertical-align: top;\n",
       "    }\n",
       "\n",
       "    .dataframe thead th {\n",
       "        text-align: right;\n",
       "    }\n",
       "</style>\n",
       "<table border=\"1\" class=\"dataframe\">\n",
       "  <thead>\n",
       "    <tr style=\"text-align: right;\">\n",
       "      <th></th>\n",
       "      <th>count</th>\n",
       "      <th>mean</th>\n",
       "      <th>std</th>\n",
       "      <th>min</th>\n",
       "      <th>25%</th>\n",
       "      <th>50%</th>\n",
       "      <th>75%</th>\n",
       "      <th>max</th>\n",
       "    </tr>\n",
       "  </thead>\n",
       "  <tbody>\n",
       "    <tr>\n",
       "      <th>yearsofexperience</th>\n",
       "      <td>7007.0</td>\n",
       "      <td>0.394222</td>\n",
       "      <td>0.195696</td>\n",
       "      <td>0.0</td>\n",
       "      <td>0.264336</td>\n",
       "      <td>0.401997</td>\n",
       "      <td>0.529196</td>\n",
       "      <td>1.243946</td>\n",
       "    </tr>\n",
       "    <tr>\n",
       "      <th>yearsatcompany</th>\n",
       "      <td>7007.0</td>\n",
       "      <td>0.310635</td>\n",
       "      <td>0.230077</td>\n",
       "      <td>0.0</td>\n",
       "      <td>0.000000</td>\n",
       "      <td>0.354145</td>\n",
       "      <td>0.500421</td>\n",
       "      <td>1.104347</td>\n",
       "    </tr>\n",
       "    <tr>\n",
       "      <th>education</th>\n",
       "      <td>7007.0</td>\n",
       "      <td>0.543184</td>\n",
       "      <td>0.169151</td>\n",
       "      <td>0.0</td>\n",
       "      <td>0.389966</td>\n",
       "      <td>0.668313</td>\n",
       "      <td>0.668313</td>\n",
       "      <td>1.000000</td>\n",
       "    </tr>\n",
       "  </tbody>\n",
       "</table>\n",
       "</div>"
      ],
      "text/plain": [
       "                    count      mean       std  min       25%       50%   \n",
       "yearsofexperience  7007.0  0.394222  0.195696  0.0  0.264336  0.401997  \\\n",
       "yearsatcompany     7007.0  0.310635  0.230077  0.0  0.000000  0.354145   \n",
       "education          7007.0  0.543184  0.169151  0.0  0.389966  0.668313   \n",
       "\n",
       "                        75%       max  \n",
       "yearsofexperience  0.529196  1.243946  \n",
       "yearsatcompany     0.500421  1.104347  \n",
       "education          0.668313  1.000000  "
      ]
     },
     "execution_count": 49,
     "metadata": {},
     "output_type": "execute_result"
    }
   ],
   "source": [
    "X_test_trans_scaled_df.describe().T"
   ]
  },
  {
   "cell_type": "code",
   "execution_count": 50,
   "id": "d91c7acf",
   "metadata": {},
   "outputs": [],
   "source": [
    "# Now I am concatenating back transformed_scaled data to encoded columns.\n",
    "# Before doing that I am resetting the indexes."
   ]
  },
  {
   "cell_type": "code",
   "execution_count": 51,
   "id": "59778137",
   "metadata": {},
   "outputs": [],
   "source": [
    "X_train_enc = X_train_enc.reset_index(drop=True)\n",
    "X_train_trans_scaled_df = X_train_trans_scaled_df.reset_index(drop=True)\n",
    "\n",
    "X_test_enc = X_test_enc.reset_index(drop=True)\n",
    "X_test_trans_scaled_df = X_test_trans_scaled_df.reset_index(drop=True)"
   ]
  },
  {
   "cell_type": "code",
   "execution_count": 52,
   "id": "33cb8286",
   "metadata": {},
   "outputs": [],
   "source": [
    "X_train_new = pd.concat([X_train_enc, X_train_trans_scaled_df], axis=1)\n",
    "X_test_new = pd.concat([X_test_enc, X_test_trans_scaled_df], axis=1)"
   ]
  },
  {
   "cell_type": "code",
   "execution_count": 53,
   "id": "49723697",
   "metadata": {},
   "outputs": [],
   "source": [
    "#KNN Regression"
   ]
  },
  {
   "cell_type": "code",
   "execution_count": 55,
   "id": "aa5ac1d7",
   "metadata": {},
   "outputs": [],
   "source": [
    "# The best model is the one with 9 neighbours, uniform weigh and Manhattan distance - r2 is 0.58"
   ]
  },
  {
   "cell_type": "code",
   "execution_count": 56,
   "id": "ad977e76",
   "metadata": {},
   "outputs": [],
   "source": [
    "knn = KNeighborsRegressor(n_neighbors=9, weights='uniform', p=1)\n",
    "knn.fit(X_train_new, y_train)\n",
    "\n",
    "filename = \"../Models/KNNRegressor_stem.pickle\"\n",
    "\n",
    "with open(filename, \"wb\") as file:\n",
    "        pickle.dump(knn,file)"
   ]
  },
  {
   "cell_type": "code",
   "execution_count": 57,
   "id": "8a2c9cc3",
   "metadata": {},
   "outputs": [
    {
     "name": "stdout",
     "output_type": "stream",
     "text": [
      "Train data R2 was: 0.61\n",
      "Test data R2 was: 0.58\n"
     ]
    }
   ],
   "source": [
    "print(\"Train data R2 was: {:.2f}\".format(knn.score(X_train_new, y_train)))\n",
    "print(\"Test data R2 was: {:.2f}\".format(knn.score(X_test_new, y_test)))"
   ]
  },
  {
   "cell_type": "code",
   "execution_count": 58,
   "id": "134dfcad",
   "metadata": {},
   "outputs": [],
   "source": [
    "#%%writefile -a functions.py\n",
    "\n",
    "def error_metrics_calculations(y_true, y_pred):\n",
    "\n",
    "    \"\"\"\n",
    "    This function given a model predicted and real values calculates error metrics.\n",
    "    Args:\n",
    "       y_true: actual y values in a test set\n",
    "       y_pred: predicted by model y values\n",
    "    Returns:\n",
    "       pandas.DataFrame: the dataframe with error metrics name and values\n",
    "    \"\"\"\n",
    "        \n",
    "    error_metrics = {\"MAE\": mean_absolute_error(y_true, y_pred), 'MSE': mean_squared_error(y_true, y_pred), \n",
    "                     'RMSE': np.sqrt(mean_squared_error(y_true, y_pred)), 'MAPE': np.mean(np.abs((y_true - y_pred) / y_true)) * 100,\n",
    "                     'R2': r2_score(y_true, y_pred)}\n",
    "    df = pd.DataFrame(list(error_metrics.items()), columns=['Error_metric', 'Value'])\n",
    "    return df"
   ]
  },
  {
   "cell_type": "code",
   "execution_count": 59,
   "id": "be886e7f",
   "metadata": {},
   "outputs": [
    {
     "data": {
      "text/html": [
       "<div>\n",
       "<style scoped>\n",
       "    .dataframe tbody tr th:only-of-type {\n",
       "        vertical-align: middle;\n",
       "    }\n",
       "\n",
       "    .dataframe tbody tr th {\n",
       "        vertical-align: top;\n",
       "    }\n",
       "\n",
       "    .dataframe thead th {\n",
       "        text-align: right;\n",
       "    }\n",
       "</style>\n",
       "<table border=\"1\" class=\"dataframe\">\n",
       "  <thead>\n",
       "    <tr style=\"text-align: right;\">\n",
       "      <th></th>\n",
       "      <th>Error_metric</th>\n",
       "      <th>Value</th>\n",
       "    </tr>\n",
       "  </thead>\n",
       "  <tbody>\n",
       "    <tr>\n",
       "      <th>0</th>\n",
       "      <td>MAE</td>\n",
       "      <td>5.486385e+04</td>\n",
       "    </tr>\n",
       "    <tr>\n",
       "      <th>1</th>\n",
       "      <td>MSE</td>\n",
       "      <td>7.824141e+09</td>\n",
       "    </tr>\n",
       "    <tr>\n",
       "      <th>2</th>\n",
       "      <td>RMSE</td>\n",
       "      <td>8.845417e+04</td>\n",
       "    </tr>\n",
       "    <tr>\n",
       "      <th>3</th>\n",
       "      <td>MAPE</td>\n",
       "      <td>3.288207e+01</td>\n",
       "    </tr>\n",
       "    <tr>\n",
       "      <th>4</th>\n",
       "      <td>R2</td>\n",
       "      <td>5.785994e-01</td>\n",
       "    </tr>\n",
       "  </tbody>\n",
       "</table>\n",
       "</div>"
      ],
      "text/plain": [
       "  Error_metric         Value\n",
       "0          MAE  5.486385e+04\n",
       "1          MSE  7.824141e+09\n",
       "2         RMSE  8.845417e+04\n",
       "3         MAPE  3.288207e+01\n",
       "4           R2  5.785994e-01"
      ]
     },
     "execution_count": 59,
     "metadata": {},
     "output_type": "execute_result"
    }
   ],
   "source": [
    "y_pred = knn.predict(X_test_new)\n",
    "error_metrics = error_metrics_calculations(y_test, y_pred)\n",
    "error_metrics"
   ]
  },
  {
   "cell_type": "code",
   "execution_count": 66,
   "id": "8bd45ea0",
   "metadata": {},
   "outputs": [
    {
     "data": {
      "text/plain": [
       "(0.0, 10000000.0)"
      ]
     },
     "execution_count": 66,
     "metadata": {},
     "output_type": "execute_result"
    },
    {
     "data": {
      "image/png": "[encoded data removed]",
      "text/plain": [
       "<Figure size 600x400 with 1 Axes>"
      ]
     },
     "metadata": {},
     "output_type": "display_data"
    }
   ],
   "source": [
    "plt.figure(figsize=(6,4))\n",
    "y = sns.scatterplot(x=y_test, y=y_pred)\n",
    "plt.ylim(0, 10000000)"
   ]
  },
  {
   "cell_type": "code",
   "execution_count": 98,
   "id": "f974a02c",
   "metadata": {},
   "outputs": [
    {
     "data": {
      "text/plain": [
       "(0.0, 1600000.0)"
      ]
     },
     "execution_count": 98,
     "metadata": {},
     "output_type": "execute_result"
    },
    {
     "data": {
      "image/png": "[encoded data removed]",
      "text/plain": [
       "<Figure size 600x400 with 1 Axes>"
      ]
     },
     "metadata": {},
     "output_type": "display_data"
    }
   ],
   "source": [
    "plt.figure(figsize=(6,4))\n",
    "y = sns.regplot(x=y_test, y=y_pred, scatter_kws={'color': 'blue'}, line_kws={'color': 'black'})\n",
    "y.set(ylabel='y_pred', xlabel='y_real', title = 'Predicted Salary vs Real Salary')\n",
    "plt.ylim(0, 1600000)"
   ]
  },
  {
   "cell_type": "code",
   "execution_count": 99,
   "id": "c5274923",
   "metadata": {},
   "outputs": [],
   "source": [
    "y.figure.savefig('../Images/Scatterplot.png', bbox_inches = \"tight\")"
   ]
  },
  {
   "cell_type": "code",
   "execution_count": 96,
   "id": "c3c6c330",
   "metadata": {},
   "outputs": [
    {
     "data": {
      "text/plain": [
       "(-400000.0, 500000.0)"
      ]
     },
     "execution_count": 96,
     "metadata": {},
     "output_type": "execute_result"
    },
    {
     "data": {
      "image/png": "[encoded data removed]",
      "text/plain": [
       "<Figure size 600x400 with 1 Axes>"
      ]
     },
     "metadata": {},
     "output_type": "display_data"
    }
   ],
   "source": [
    "plt.figure(figsize=(6,4))\n",
    "h = sns.histplot(x=(y_test-y_pred), kde=True)\n",
    "plt.axvline(x=0, color='black', linestyle='--')\n",
    "plt.xlim(-400000, 500000)"
   ]
  },
  {
   "cell_type": "code",
   "execution_count": 97,
   "id": "3e1af0a7",
   "metadata": {},
   "outputs": [],
   "source": [
    "h.figure.savefig('../Images/Histogram.png', bbox_inches = \"tight\")"
   ]
  },
  {
   "cell_type": "code",
   "execution_count": null,
   "id": "c4577c39",
   "metadata": {},
   "outputs": [],
   "source": []
  }
 ],
 "metadata": {
  "kernelspec": {
   "display_name": "next-env",
   "language": "python",
   "name": "next-env"
  },
  "language_info": {
   "codemirror_mode": {
    "name": "ipython",
    "version": 3
   },
   "file_extension": ".py",
   "mimetype": "text/x-python",
   "name": "python",
   "nbconvert_exporter": "python",
   "pygments_lexer": "ipython3",
   "version": "3.9.13"
  }
 },
 "nbformat": 4,
 "nbformat_minor": 5
}
